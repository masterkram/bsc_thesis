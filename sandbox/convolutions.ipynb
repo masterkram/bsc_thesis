{
 "cells": [
  {
   "cell_type": "code",
   "execution_count": 7,
   "metadata": {},
   "outputs": [],
   "source": [
    "import torch\n",
    "from torch import nn"
   ]
  },
  {
   "cell_type": "code",
   "execution_count": 35,
   "metadata": {},
   "outputs": [],
   "source": [
    "cnn_encoder = nn.Sequential(\n",
    "            nn.Conv2d(\n",
    "                in_channels=4, out_channels=16, kernel_size=(3, 3)\n",
    "            ),\n",
    "            nn.Conv2d(\n",
    "                in_channels=16, out_channels=32, kernel_size=(3, 3), stride=2\n",
    "            ),\n",
    "            nn.Conv2d(\n",
    "                in_channels=32, out_channels=64, kernel_size=(3, 3)\n",
    "            ),\n",
    "            nn.Conv2d(\n",
    "                in_channels=64, out_channels=64, kernel_size=(3, 3)\n",
    "            ),\n",
    "        )"
   ]
  },
  {
   "cell_type": "code",
   "execution_count": 36,
   "metadata": {},
   "outputs": [],
   "source": [
    "sat_image = torch.randn((4, 357, 495))"
   ]
  },
  {
   "cell_type": "code",
   "execution_count": 37,
   "metadata": {},
   "outputs": [],
   "source": [
    "# sat_image"
   ]
  },
  {
   "cell_type": "code",
   "execution_count": 38,
   "metadata": {},
   "outputs": [],
   "source": [
    "result = cnn_encoder(sat_image)"
   ]
  },
  {
   "cell_type": "code",
   "execution_count": 39,
   "metadata": {},
   "outputs": [
    {
     "data": {
      "text/plain": [
       "torch.Size([64, 173, 242])"
      ]
     },
     "execution_count": 39,
     "metadata": {},
     "output_type": "execute_result"
    }
   ],
   "source": [
    "result.size()"
   ]
  },
  {
   "cell_type": "code",
   "execution_count": 71,
   "metadata": {},
   "outputs": [],
   "source": [
    "decoder = nn.Sequential(\n",
    "            nn.Conv2d(\n",
    "                in_channels=64, out_channels=32, kernel_size=(3, 3), stride=1\n",
    "            ),\n",
    "            nn.Conv2d(\n",
    "                in_channels=32, out_channels=16, kernel_size=(3, 3), stride=1\n",
    "            ),\n",
    "            nn.Conv2d(\n",
    "                in_channels=16, out_channels=1, kernel_size=(2, 3), stride=1\n",
    "            ),\n",
    "            nn.Conv2d(\n",
    "                in_channels=1, out_channels=1, kernel_size=(3, 103), stride=1\n",
    "            ),\n",
    "        )"
   ]
  },
  {
   "cell_type": "code",
   "execution_count": 72,
   "metadata": {},
   "outputs": [],
   "source": [
    "test = decoder(result)"
   ]
  },
  {
   "attachments": {},
   "cell_type": "markdown",
   "metadata": {},
   "source": [
    "target is 166, 134"
   ]
  },
  {
   "cell_type": "code",
   "execution_count": 73,
   "metadata": {},
   "outputs": [
    {
     "data": {
      "text/plain": [
       "torch.Size([1, 166, 134])"
      ]
     },
     "execution_count": 73,
     "metadata": {},
     "output_type": "execute_result"
    }
   ],
   "source": [
    "test.size()"
   ]
  },
  {
   "cell_type": "code",
   "execution_count": null,
   "metadata": {},
   "outputs": [],
   "source": []
  }
 ],
 "metadata": {
  "kernelspec": {
   "display_name": "thesis",
   "language": "python",
   "name": "python3"
  },
  "language_info": {
   "codemirror_mode": {
    "name": "ipython",
    "version": 3
   },
   "file_extension": ".py",
   "mimetype": "text/x-python",
   "name": "python",
   "nbconvert_exporter": "python",
   "pygments_lexer": "ipython3",
   "version": "3.10.10"
  },
  "orig_nbformat": 4
 },
 "nbformat": 4,
 "nbformat_minor": 2
}
