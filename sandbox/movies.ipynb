{
 "cells": [
  {
   "cell_type": "code",
   "execution_count": 2,
   "metadata": {},
   "outputs": [],
   "source": [
    "from PIL import Image, ImageOps\n",
    "import numpy as np\n",
    "import sys\n",
    "import matplotlib.pyplot as plt"
   ]
  },
  {
   "cell_type": "code",
   "execution_count": 3,
   "metadata": {},
   "outputs": [],
   "source": [
    "SAVE_FOLDER = '.'\n",
    "PATH_TO_DATA = '../data/'"
   ]
  },
  {
   "cell_type": "code",
   "execution_count": 4,
   "metadata": {},
   "outputs": [],
   "source": [
    "sys.path.append('../src/')\n",
    "sys.path.append('../src/lib/data_loaders/')"
   ]
  },
  {
   "cell_type": "code",
   "execution_count": 5,
   "metadata": {},
   "outputs": [],
   "source": [
    "from Sat2RadModule import Sat2RadDataModule\n",
    "from DatasetDistributor import DatasetDistributor\n",
    "from DatasetType import DatasetType"
   ]
  },
  {
   "cell_type": "code",
   "execution_count": 6,
   "metadata": {},
   "outputs": [
    {
     "name": "stdout",
     "output_type": "stream",
     "text": [
      "1\n"
     ]
    },
    {
     "data": {
      "text/html": [
       "<pre style=\"white-space:pre;overflow-x:auto;line-height:normal;font-family:Menlo,'DejaVu Sans Mono',consolas,'Courier New',monospace\"><span style=\"font-style: italic\">                                                 Partitioned Files                                                 </span>\n",
       "┏━━━━━━━━━━━━━━━━┳━━━━━━━━━━━━━━━━━┳━━━━━━━━━━━━━━━━┳━━━━━━━━━━━━━━━━━┳━━━━━━━━━━━━┳━━━━━━━━━━━━━━━━┳━━━━━━━━━━━━━┓\n",
       "┃<span style=\"font-weight: bold\">                </span>┃<span style=\"font-weight: bold\">                 </span>┃<span style=\"font-weight: bold\">                </span>┃<span style=\"font-weight: bold\">                 </span>┃<span style=\"font-weight: bold\">            </span>┃<span style=\"font-weight: bold\">          Files </span>┃<span style=\"font-weight: bold\">             </span>┃\n",
       "┃<span style=\"font-weight: bold\"> Start Date Sat </span>┃<span style=\"font-weight: bold\">    End Date Sat </span>┃<span style=\"font-weight: bold\"> Start Date Rad </span>┃<span style=\"font-weight: bold\">    End Date Rad </span>┃<span style=\"font-weight: bold\"> Partition  </span>┃<span style=\"font-weight: bold\">      Satellite </span>┃<span style=\"font-weight: bold\"> Files Radar </span>┃\n",
       "┡━━━━━━━━━━━━━━━━╇━━━━━━━━━━━━━━━━━╇━━━━━━━━━━━━━━━━╇━━━━━━━━━━━━━━━━━╇━━━━━━━━━━━━╇━━━━━━━━━━━━━━━━╇━━━━━━━━━━━━━┩\n",
       "│<span style=\"color: #008080; text-decoration-color: #008080\">     2023-03-01 </span>│<span style=\"color: #008080; text-decoration-color: #008080\">      2023-04-05 </span>│<span style=\"color: #008080; text-decoration-color: #008080\">     2023-03-01 </span>│<span style=\"color: #008080; text-decoration-color: #008080\">      2023-04-05 </span>│<span style=\"color: #800080; text-decoration-color: #800080\"> All        </span>│<span style=\"color: #008000; text-decoration-color: #008000\">           3331 </span>│<span style=\"color: #008000; text-decoration-color: #008000\">       10348 </span>│\n",
       "│<span style=\"color: #008080; text-decoration-color: #008080\">       23:42:00 </span>│<span style=\"color: #008080; text-decoration-color: #008080\">        22:42:00 </span>│<span style=\"color: #008080; text-decoration-color: #008080\">       00:05:00 </span>│<span style=\"color: #008080; text-decoration-color: #008080\">        22:55:00 </span>│<span style=\"color: #800080; text-decoration-color: #800080\">            </span>│<span style=\"color: #008000; text-decoration-color: #008000\">                </span>│<span style=\"color: #008000; text-decoration-color: #008000\">             </span>│\n",
       "│<span style=\"color: #008080; text-decoration-color: #008080\">     2023-03-01 </span>│<span style=\"color: #008080; text-decoration-color: #008080\">      2023-03-22 </span>│<span style=\"color: #008080; text-decoration-color: #008080\">     2023-03-01 </span>│<span style=\"color: #008080; text-decoration-color: #008080\">      2023-03-22 </span>│<span style=\"color: #800080; text-decoration-color: #800080\"> Training   </span>│<span style=\"color: #008000; text-decoration-color: #008000\">           1998 </span>│<span style=\"color: #008000; text-decoration-color: #008000\">        6206 </span>│\n",
       "│<span style=\"color: #008080; text-decoration-color: #008080\">       23:42:00 </span>│<span style=\"color: #008080; text-decoration-color: #008080\">        21:27:00 </span>│<span style=\"color: #008080; text-decoration-color: #008080\">       00:05:00 </span>│<span style=\"color: #008080; text-decoration-color: #008080\">        13:25:00 </span>│<span style=\"color: #800080; text-decoration-color: #800080\">            </span>│<span style=\"color: #008000; text-decoration-color: #008000\">                </span>│<span style=\"color: #008000; text-decoration-color: #008000\">             </span>│\n",
       "│<span style=\"color: #008080; text-decoration-color: #008080\">     2023-03-22 </span>│<span style=\"color: #008080; text-decoration-color: #008080\">      2023-03-26 </span>│<span style=\"color: #008080; text-decoration-color: #008080\">     2023-03-22 </span>│<span style=\"color: #008080; text-decoration-color: #008080\">      2023-03-26 </span>│<span style=\"color: #800080; text-decoration-color: #800080\"> Validation </span>│<span style=\"color: #008000; text-decoration-color: #008000\">            333 </span>│<span style=\"color: #008000; text-decoration-color: #008000\">        1034 </span>│\n",
       "│<span style=\"color: #008080; text-decoration-color: #008080\">       21:27:00 </span>│<span style=\"color: #008080; text-decoration-color: #008080\">        08:42:00 </span>│<span style=\"color: #008080; text-decoration-color: #008080\">       13:25:00 </span>│<span style=\"color: #008080; text-decoration-color: #008080\">        03:50:00 </span>│<span style=\"color: #800080; text-decoration-color: #800080\">            </span>│<span style=\"color: #008000; text-decoration-color: #008000\">                </span>│<span style=\"color: #008000; text-decoration-color: #008000\">             </span>│\n",
       "│<span style=\"color: #008080; text-decoration-color: #008080\">     2023-03-26 </span>│<span style=\"color: #008080; text-decoration-color: #008080\">      2023-03-29 </span>│<span style=\"color: #008080; text-decoration-color: #008080\">     2023-03-26 </span>│<span style=\"color: #008080; text-decoration-color: #008080\">      2023-03-29 </span>│<span style=\"color: #800080; text-decoration-color: #800080\"> Testing    </span>│<span style=\"color: #008000; text-decoration-color: #008000\">            333 </span>│<span style=\"color: #008000; text-decoration-color: #008000\">        1034 </span>│\n",
       "│<span style=\"color: #008080; text-decoration-color: #008080\">       08:42:00 </span>│<span style=\"color: #008080; text-decoration-color: #008080\">        20:27:00 </span>│<span style=\"color: #008080; text-decoration-color: #008080\">       03:50:00 </span>│<span style=\"color: #008080; text-decoration-color: #008080\">        18:05:00 </span>│<span style=\"color: #800080; text-decoration-color: #800080\">            </span>│<span style=\"color: #008000; text-decoration-color: #008000\">                </span>│<span style=\"color: #008000; text-decoration-color: #008000\">             </span>│\n",
       "└────────────────┴─────────────────┴────────────────┴─────────────────┴────────────┴────────────────┴─────────────┘\n",
       "</pre>\n"
      ],
      "text/plain": [
       "\u001b[3m                                                 Partitioned Files                                                 \u001b[0m\n",
       "┏━━━━━━━━━━━━━━━━┳━━━━━━━━━━━━━━━━━┳━━━━━━━━━━━━━━━━┳━━━━━━━━━━━━━━━━━┳━━━━━━━━━━━━┳━━━━━━━━━━━━━━━━┳━━━━━━━━━━━━━┓\n",
       "┃\u001b[1m                \u001b[0m┃\u001b[1m                 \u001b[0m┃\u001b[1m                \u001b[0m┃\u001b[1m                 \u001b[0m┃\u001b[1m            \u001b[0m┃\u001b[1m \u001b[0m\u001b[1m         Files\u001b[0m\u001b[1m \u001b[0m┃\u001b[1m             \u001b[0m┃\n",
       "┃\u001b[1m \u001b[0m\u001b[1mStart Date Sat\u001b[0m\u001b[1m \u001b[0m┃\u001b[1m \u001b[0m\u001b[1m   End Date Sat\u001b[0m\u001b[1m \u001b[0m┃\u001b[1m \u001b[0m\u001b[1mStart Date Rad\u001b[0m\u001b[1m \u001b[0m┃\u001b[1m \u001b[0m\u001b[1m   End Date Rad\u001b[0m\u001b[1m \u001b[0m┃\u001b[1m \u001b[0m\u001b[1mPartition \u001b[0m\u001b[1m \u001b[0m┃\u001b[1m \u001b[0m\u001b[1m     Satellite\u001b[0m\u001b[1m \u001b[0m┃\u001b[1m \u001b[0m\u001b[1mFiles Radar\u001b[0m\u001b[1m \u001b[0m┃\n",
       "┡━━━━━━━━━━━━━━━━╇━━━━━━━━━━━━━━━━━╇━━━━━━━━━━━━━━━━╇━━━━━━━━━━━━━━━━━╇━━━━━━━━━━━━╇━━━━━━━━━━━━━━━━╇━━━━━━━━━━━━━┩\n",
       "│\u001b[36m \u001b[0m\u001b[36m    2023-03-01\u001b[0m\u001b[36m \u001b[0m│\u001b[36m \u001b[0m\u001b[36m     2023-04-05\u001b[0m\u001b[36m \u001b[0m│\u001b[36m \u001b[0m\u001b[36m    2023-03-01\u001b[0m\u001b[36m \u001b[0m│\u001b[36m \u001b[0m\u001b[36m     2023-04-05\u001b[0m\u001b[36m \u001b[0m│\u001b[35m \u001b[0m\u001b[35mAll       \u001b[0m\u001b[35m \u001b[0m│\u001b[32m \u001b[0m\u001b[32m          3331\u001b[0m\u001b[32m \u001b[0m│\u001b[32m \u001b[0m\u001b[32m      10348\u001b[0m\u001b[32m \u001b[0m│\n",
       "│\u001b[36m \u001b[0m\u001b[36m      23:42:00\u001b[0m\u001b[36m \u001b[0m│\u001b[36m \u001b[0m\u001b[36m       22:42:00\u001b[0m\u001b[36m \u001b[0m│\u001b[36m \u001b[0m\u001b[36m      00:05:00\u001b[0m\u001b[36m \u001b[0m│\u001b[36m \u001b[0m\u001b[36m       22:55:00\u001b[0m\u001b[36m \u001b[0m│\u001b[35m            \u001b[0m│\u001b[32m                \u001b[0m│\u001b[32m             \u001b[0m│\n",
       "│\u001b[36m \u001b[0m\u001b[36m    2023-03-01\u001b[0m\u001b[36m \u001b[0m│\u001b[36m \u001b[0m\u001b[36m     2023-03-22\u001b[0m\u001b[36m \u001b[0m│\u001b[36m \u001b[0m\u001b[36m    2023-03-01\u001b[0m\u001b[36m \u001b[0m│\u001b[36m \u001b[0m\u001b[36m     2023-03-22\u001b[0m\u001b[36m \u001b[0m│\u001b[35m \u001b[0m\u001b[35mTraining  \u001b[0m\u001b[35m \u001b[0m│\u001b[32m \u001b[0m\u001b[32m          1998\u001b[0m\u001b[32m \u001b[0m│\u001b[32m \u001b[0m\u001b[32m       6206\u001b[0m\u001b[32m \u001b[0m│\n",
       "│\u001b[36m \u001b[0m\u001b[36m      23:42:00\u001b[0m\u001b[36m \u001b[0m│\u001b[36m \u001b[0m\u001b[36m       21:27:00\u001b[0m\u001b[36m \u001b[0m│\u001b[36m \u001b[0m\u001b[36m      00:05:00\u001b[0m\u001b[36m \u001b[0m│\u001b[36m \u001b[0m\u001b[36m       13:25:00\u001b[0m\u001b[36m \u001b[0m│\u001b[35m            \u001b[0m│\u001b[32m                \u001b[0m│\u001b[32m             \u001b[0m│\n",
       "│\u001b[36m \u001b[0m\u001b[36m    2023-03-22\u001b[0m\u001b[36m \u001b[0m│\u001b[36m \u001b[0m\u001b[36m     2023-03-26\u001b[0m\u001b[36m \u001b[0m│\u001b[36m \u001b[0m\u001b[36m    2023-03-22\u001b[0m\u001b[36m \u001b[0m│\u001b[36m \u001b[0m\u001b[36m     2023-03-26\u001b[0m\u001b[36m \u001b[0m│\u001b[35m \u001b[0m\u001b[35mValidation\u001b[0m\u001b[35m \u001b[0m│\u001b[32m \u001b[0m\u001b[32m           333\u001b[0m\u001b[32m \u001b[0m│\u001b[32m \u001b[0m\u001b[32m       1034\u001b[0m\u001b[32m \u001b[0m│\n",
       "│\u001b[36m \u001b[0m\u001b[36m      21:27:00\u001b[0m\u001b[36m \u001b[0m│\u001b[36m \u001b[0m\u001b[36m       08:42:00\u001b[0m\u001b[36m \u001b[0m│\u001b[36m \u001b[0m\u001b[36m      13:25:00\u001b[0m\u001b[36m \u001b[0m│\u001b[36m \u001b[0m\u001b[36m       03:50:00\u001b[0m\u001b[36m \u001b[0m│\u001b[35m            \u001b[0m│\u001b[32m                \u001b[0m│\u001b[32m             \u001b[0m│\n",
       "│\u001b[36m \u001b[0m\u001b[36m    2023-03-26\u001b[0m\u001b[36m \u001b[0m│\u001b[36m \u001b[0m\u001b[36m     2023-03-29\u001b[0m\u001b[36m \u001b[0m│\u001b[36m \u001b[0m\u001b[36m    2023-03-26\u001b[0m\u001b[36m \u001b[0m│\u001b[36m \u001b[0m\u001b[36m     2023-03-29\u001b[0m\u001b[36m \u001b[0m│\u001b[35m \u001b[0m\u001b[35mTesting   \u001b[0m\u001b[35m \u001b[0m│\u001b[32m \u001b[0m\u001b[32m           333\u001b[0m\u001b[32m \u001b[0m│\u001b[32m \u001b[0m\u001b[32m       1034\u001b[0m\u001b[32m \u001b[0m│\n",
       "│\u001b[36m \u001b[0m\u001b[36m      08:42:00\u001b[0m\u001b[36m \u001b[0m│\u001b[36m \u001b[0m\u001b[36m       20:27:00\u001b[0m\u001b[36m \u001b[0m│\u001b[36m \u001b[0m\u001b[36m      03:50:00\u001b[0m\u001b[36m \u001b[0m│\u001b[36m \u001b[0m\u001b[36m       18:05:00\u001b[0m\u001b[36m \u001b[0m│\u001b[35m            \u001b[0m│\u001b[32m                \u001b[0m│\u001b[32m             \u001b[0m│\n",
       "└────────────────┴─────────────────┴────────────────┴─────────────────┴────────────┴────────────────┴─────────────┘\n"
      ]
     },
     "metadata": {},
     "output_type": "display_data"
    },
    {
     "data": {
      "text/html": [
       "<pre style=\"white-space:pre;overflow-x:auto;line-height:normal;font-family:Menlo,'DejaVu Sans Mono',consolas,'Courier New',monospace\">using the dataset: <span style=\"font-weight: bold\">&lt;</span><span style=\"color: #ff00ff; text-decoration-color: #ff00ff; font-weight: bold\">class</span><span style=\"color: #000000; text-decoration-color: #000000\"> </span><span style=\"color: #008000; text-decoration-color: #008000\">'DatasetSlidingWindow.Sat2RadDatasetSlidingWindow'</span><span style=\"font-weight: bold\">&gt;</span>\n",
       "</pre>\n"
      ],
      "text/plain": [
       "using the dataset: \u001b[1m<\u001b[0m\u001b[1;95mclass\u001b[0m\u001b[39m \u001b[0m\u001b[32m'DatasetSlidingWindow.Sat2RadDatasetSlidingWindow'\u001b[0m\u001b[1m>\u001b[0m\n"
      ]
     },
     "metadata": {},
     "output_type": "display_data"
    }
   ],
   "source": [
    "module = Sat2RadDataModule(data_dir=PATH_TO_DATA, batch_size=1, splits={\"train\": 0.6, \"val\": 0.1, \"test\": 0.1}, dataset_type=1)\n",
    "module.setup(None)"
   ]
  },
  {
   "cell_type": "code",
   "execution_count": 7,
   "metadata": {},
   "outputs": [],
   "source": [
    "train = module.train_dataloader()"
   ]
  },
  {
   "cell_type": "code",
   "execution_count": 8,
   "metadata": {},
   "outputs": [],
   "source": [
    "test = module.test_dataloader()"
   ]
  },
  {
   "cell_type": "code",
   "execution_count": 9,
   "metadata": {},
   "outputs": [],
   "source": [
    "val = module.val_dataloader()"
   ]
  },
  {
   "cell_type": "code",
   "execution_count": 10,
   "metadata": {},
   "outputs": [],
   "source": [
    "gt = [data[1].detach().numpy() for data in iter(val)]"
   ]
  },
  {
   "cell_type": "code",
   "execution_count": 11,
   "metadata": {},
   "outputs": [],
   "source": [
    "gt = np.array(gt)"
   ]
  },
  {
   "cell_type": "code",
   "execution_count": 12,
   "metadata": {},
   "outputs": [
    {
     "data": {
      "text/plain": [
       "(300, 1, 1, 256, 256)"
      ]
     },
     "execution_count": 12,
     "metadata": {},
     "output_type": "execute_result"
    }
   ],
   "source": [
    "gt.shape"
   ]
  },
  {
   "cell_type": "code",
   "execution_count": 13,
   "metadata": {},
   "outputs": [],
   "source": [
    "gt = gt.reshape(-1, 256, 256)"
   ]
  },
  {
   "cell_type": "code",
   "execution_count": 14,
   "metadata": {},
   "outputs": [
    {
     "data": {
      "text/plain": [
       "(300, 256, 256)"
      ]
     },
     "execution_count": 14,
     "metadata": {},
     "output_type": "execute_result"
    }
   ],
   "source": [
    "gt.shape"
   ]
  },
  {
   "cell_type": "code",
   "execution_count": 15,
   "metadata": {},
   "outputs": [],
   "source": [
    "satellite = [data[0].detach().numpy() for data in iter(val)]"
   ]
  },
  {
   "cell_type": "code",
   "execution_count": 16,
   "metadata": {},
   "outputs": [],
   "source": [
    "satellite = np.array(satellite)"
   ]
  },
  {
   "cell_type": "code",
   "execution_count": 17,
   "metadata": {},
   "outputs": [],
   "source": [
    "satelliteog = satellite.reshape((-1, 11, 256, 256))"
   ]
  },
  {
   "cell_type": "code",
   "execution_count": 18,
   "metadata": {},
   "outputs": [],
   "source": [
    "satellite = satelliteog[:, 8, :, :]"
   ]
  },
  {
   "cell_type": "code",
   "execution_count": 19,
   "metadata": {},
   "outputs": [],
   "source": [
    "def make_gif(array: np.ndarray, pred=True, name: str = 'gifyboy'):\n",
    "    # imgs = np.random.randint(0, 255, (100, 50, 50, 3), dtype=np.uint8)\n",
    "    array = array * 255\n",
    "    imgs = [Image.fromarray(img) for img in array]\n",
    "    # duration is the number of milliseconds between frames; this is 40 frames per second\n",
    "    imgs[0].save(\n",
    "        f\"{SAVE_FOLDER}{name}_vid.gif\",\n",
    "        save_all=True,\n",
    "        append_images=imgs[1:],\n",
    "        duration=100,\n",
    "        loop=0,\n",
    "    )"
   ]
  },
  {
   "cell_type": "code",
   "execution_count": 22,
   "metadata": {},
   "outputs": [],
   "source": [
    "def make_gif_with_color(array: np.ndarray, pred=True, name: str = 'gifyboy'):\n",
    "    array = array * 255\n",
    "    imgs = [Image.fromarray(img).convert(\"L\") for img in array]\n",
    "    imgs = [ImageOps.colorize(img, black=(24, 24, 27), white='white') for img in imgs]\n",
    "    # duration is the number of milliseconds between frames; this is 40 frames per second\n",
    "    imgs[0].save(\n",
    "        f\"{SAVE_FOLDER}{name}_vid.gif\",\n",
    "        save_all=True,\n",
    "        append_images=imgs[1:],\n",
    "        duration=100,\n",
    "        loop=0,\n",
    "    )"
   ]
  },
  {
   "cell_type": "code",
   "execution_count": 23,
   "metadata": {},
   "outputs": [],
   "source": [
    "make_gif_with_color(gt)"
   ]
  },
  {
   "cell_type": "code",
   "execution_count": 19,
   "metadata": {},
   "outputs": [
    {
     "ename": "TypeError",
     "evalue": "Cannot handle this data type: (1, 1), <i8",
     "output_type": "error",
     "traceback": [
      "\u001b[0;31m---------------------------------------------------------------------------\u001b[0m",
      "\u001b[0;31mKeyError\u001b[0m                                  Traceback (most recent call last)",
      "File \u001b[0;32m~/miniconda3/envs/torch/lib/python3.10/site-packages/PIL/Image.py:3080\u001b[0m, in \u001b[0;36mfromarray\u001b[0;34m(obj, mode)\u001b[0m\n\u001b[1;32m   3079\u001b[0m \u001b[39mtry\u001b[39;00m:\n\u001b[0;32m-> 3080\u001b[0m     mode, rawmode \u001b[39m=\u001b[39m _fromarray_typemap[typekey]\n\u001b[1;32m   3081\u001b[0m \u001b[39mexcept\u001b[39;00m \u001b[39mKeyError\u001b[39;00m \u001b[39mas\u001b[39;00m e:\n",
      "\u001b[0;31mKeyError\u001b[0m: ((1, 1), '<i8')",
      "\nThe above exception was the direct cause of the following exception:\n",
      "\u001b[0;31mTypeError\u001b[0m                                 Traceback (most recent call last)",
      "Cell \u001b[0;32mIn[19], line 1\u001b[0m\n\u001b[0;32m----> 1\u001b[0m make_gif(gt)\n",
      "Cell \u001b[0;32mIn[14], line 4\u001b[0m, in \u001b[0;36mmake_gif\u001b[0;34m(array, pred, name)\u001b[0m\n\u001b[1;32m      1\u001b[0m \u001b[39mdef\u001b[39;00m \u001b[39mmake_gif\u001b[39m(array: np\u001b[39m.\u001b[39mndarray, pred\u001b[39m=\u001b[39m\u001b[39mTrue\u001b[39;00m, name: \u001b[39mstr\u001b[39m \u001b[39m=\u001b[39m \u001b[39m'\u001b[39m\u001b[39mgifyboy\u001b[39m\u001b[39m'\u001b[39m):\n\u001b[1;32m      2\u001b[0m     \u001b[39m# imgs = np.random.randint(0, 255, (100, 50, 50, 3), dtype=np.uint8)\u001b[39;00m\n\u001b[1;32m      3\u001b[0m     array \u001b[39m=\u001b[39m array \u001b[39m*\u001b[39m \u001b[39m255\u001b[39m\n\u001b[0;32m----> 4\u001b[0m     imgs \u001b[39m=\u001b[39m [Image\u001b[39m.\u001b[39mfromarray(img) \u001b[39mfor\u001b[39;00m img \u001b[39min\u001b[39;00m array]\n\u001b[1;32m      5\u001b[0m     \u001b[39m# duration is the number of milliseconds between frames; this is 40 frames per second\u001b[39;00m\n\u001b[1;32m      6\u001b[0m     imgs[\u001b[39m0\u001b[39m]\u001b[39m.\u001b[39msave(\n\u001b[1;32m      7\u001b[0m         \u001b[39mf\u001b[39m\u001b[39m\"\u001b[39m\u001b[39m{\u001b[39;00mSAVE_FOLDER\u001b[39m}\u001b[39;00m\u001b[39m{\u001b[39;00mname\u001b[39m}\u001b[39;00m\u001b[39m_vid.gif\u001b[39m\u001b[39m\"\u001b[39m,\n\u001b[1;32m      8\u001b[0m         save_all\u001b[39m=\u001b[39m\u001b[39mTrue\u001b[39;00m,\n\u001b[0;32m   (...)\u001b[0m\n\u001b[1;32m     11\u001b[0m         loop\u001b[39m=\u001b[39m\u001b[39m0\u001b[39m,\n\u001b[1;32m     12\u001b[0m     )\n",
      "Cell \u001b[0;32mIn[14], line 4\u001b[0m, in \u001b[0;36m<listcomp>\u001b[0;34m(.0)\u001b[0m\n\u001b[1;32m      1\u001b[0m \u001b[39mdef\u001b[39;00m \u001b[39mmake_gif\u001b[39m(array: np\u001b[39m.\u001b[39mndarray, pred\u001b[39m=\u001b[39m\u001b[39mTrue\u001b[39;00m, name: \u001b[39mstr\u001b[39m \u001b[39m=\u001b[39m \u001b[39m'\u001b[39m\u001b[39mgifyboy\u001b[39m\u001b[39m'\u001b[39m):\n\u001b[1;32m      2\u001b[0m     \u001b[39m# imgs = np.random.randint(0, 255, (100, 50, 50, 3), dtype=np.uint8)\u001b[39;00m\n\u001b[1;32m      3\u001b[0m     array \u001b[39m=\u001b[39m array \u001b[39m*\u001b[39m \u001b[39m255\u001b[39m\n\u001b[0;32m----> 4\u001b[0m     imgs \u001b[39m=\u001b[39m [Image\u001b[39m.\u001b[39;49mfromarray(img) \u001b[39mfor\u001b[39;00m img \u001b[39min\u001b[39;00m array]\n\u001b[1;32m      5\u001b[0m     \u001b[39m# duration is the number of milliseconds between frames; this is 40 frames per second\u001b[39;00m\n\u001b[1;32m      6\u001b[0m     imgs[\u001b[39m0\u001b[39m]\u001b[39m.\u001b[39msave(\n\u001b[1;32m      7\u001b[0m         \u001b[39mf\u001b[39m\u001b[39m\"\u001b[39m\u001b[39m{\u001b[39;00mSAVE_FOLDER\u001b[39m}\u001b[39;00m\u001b[39m{\u001b[39;00mname\u001b[39m}\u001b[39;00m\u001b[39m_vid.gif\u001b[39m\u001b[39m\"\u001b[39m,\n\u001b[1;32m      8\u001b[0m         save_all\u001b[39m=\u001b[39m\u001b[39mTrue\u001b[39;00m,\n\u001b[0;32m   (...)\u001b[0m\n\u001b[1;32m     11\u001b[0m         loop\u001b[39m=\u001b[39m\u001b[39m0\u001b[39m,\n\u001b[1;32m     12\u001b[0m     )\n",
      "File \u001b[0;32m~/miniconda3/envs/torch/lib/python3.10/site-packages/PIL/Image.py:3083\u001b[0m, in \u001b[0;36mfromarray\u001b[0;34m(obj, mode)\u001b[0m\n\u001b[1;32m   3081\u001b[0m     \u001b[39mexcept\u001b[39;00m \u001b[39mKeyError\u001b[39;00m \u001b[39mas\u001b[39;00m e:\n\u001b[1;32m   3082\u001b[0m         msg \u001b[39m=\u001b[39m \u001b[39m\"\u001b[39m\u001b[39mCannot handle this data type: \u001b[39m\u001b[39m%s\u001b[39;00m\u001b[39m, \u001b[39m\u001b[39m%s\u001b[39;00m\u001b[39m\"\u001b[39m \u001b[39m%\u001b[39m typekey\n\u001b[0;32m-> 3083\u001b[0m         \u001b[39mraise\u001b[39;00m \u001b[39mTypeError\u001b[39;00m(msg) \u001b[39mfrom\u001b[39;00m \u001b[39me\u001b[39;00m\n\u001b[1;32m   3084\u001b[0m \u001b[39melse\u001b[39;00m:\n\u001b[1;32m   3085\u001b[0m     rawmode \u001b[39m=\u001b[39m mode\n",
      "\u001b[0;31mTypeError\u001b[0m: Cannot handle this data type: (1, 1), <i8"
     ]
    }
   ],
   "source": [
    "make_gif(gt)"
   ]
  },
  {
   "cell_type": "code",
   "execution_count": 61,
   "metadata": {},
   "outputs": [],
   "source": [
    "make_gif_with_color(satellite)"
   ]
  },
  {
   "cell_type": "code",
   "execution_count": 28,
   "metadata": {},
   "outputs": [
    {
     "name": "stderr",
     "output_type": "stream",
     "text": [
      "Exception ignored in: <function _MultiProcessingDataLoaderIter.__del__ at 0x7fe9d1739a20>\n",
      "Traceback (most recent call last):\n",
      "  File \"/home/mark/miniconda3/envs/torch/lib/python3.10/site-packages/torch/utils/data/dataloader.py\", line 1478, in __del__\n",
      "    self._shutdown_workers()\n",
      "  File \"/home/mark/miniconda3/envs/torch/lib/python3.10/site-packages/torch/utils/data/dataloader.py\", line 1442, in _shutdown_workers\n",
      "    w.join(timeout=_utils.MP_STATUS_CHECK_INTERVAL)\n",
      "  File \"/home/mark/miniconda3/envs/torch/lib/python3.10/multiprocessing/process.py\", line 149, in join\n",
      "    res = self._popen.wait(timeout)\n",
      "  File \"/home/mark/miniconda3/envs/torch/lib/python3.10/multiprocessing/popen_fork.py\", line 40, in wait\n",
      "    if not wait([self.sentinel], timeout):\n",
      "  File \"/home/mark/miniconda3/envs/torch/lib/python3.10/multiprocessing/connection.py\", line 931, in wait\n",
      "    ready = selector.select(timeout)\n",
      "  File \"/home/mark/miniconda3/envs/torch/lib/python3.10/selectors.py\", line 416, in select\n",
      "    fd_event_list = self._selector.poll(timeout)\n",
      "KeyboardInterrupt: \n"
     ]
    }
   ],
   "source": [
    "make_gif(satellite, name=\"satellite\")"
   ]
  },
  {
   "cell_type": "code",
   "execution_count": 31,
   "metadata": {},
   "outputs": [],
   "source": [
    "gtSat = [data[0].detach().numpy() for data in iter(train)]"
   ]
  },
  {
   "cell_type": "code",
   "execution_count": 33,
   "metadata": {},
   "outputs": [],
   "source": [
    "gtSat = np.array(gtSat)"
   ]
  },
  {
   "cell_type": "code",
   "execution_count": 34,
   "metadata": {},
   "outputs": [
    {
     "data": {
      "text/plain": [
       "(9, 1, 5, 11, 166, 134)"
      ]
     },
     "execution_count": 34,
     "metadata": {},
     "output_type": "execute_result"
    }
   ],
   "source": [
    "gtSat.shape"
   ]
  },
  {
   "cell_type": "code",
   "execution_count": 36,
   "metadata": {},
   "outputs": [],
   "source": [
    "gtSat = gtSat.reshape(-1, 11, 166, 134)"
   ]
  },
  {
   "cell_type": "code",
   "execution_count": 41,
   "metadata": {},
   "outputs": [
    {
     "data": {
      "text/plain": [
       "(45, 11, 166, 134)"
      ]
     },
     "execution_count": 41,
     "metadata": {},
     "output_type": "execute_result"
    }
   ],
   "source": [
    "gtSat.shape"
   ]
  },
  {
   "cell_type": "code",
   "execution_count": 42,
   "metadata": {},
   "outputs": [],
   "source": [
    "imfs = gtSat[0]"
   ]
  },
  {
   "cell_type": "code",
   "execution_count": 43,
   "metadata": {},
   "outputs": [],
   "source": [
    "make_gif(imfs)"
   ]
  },
  {
   "cell_type": "code",
   "execution_count": null,
   "metadata": {},
   "outputs": [],
   "source": []
  }
 ],
 "metadata": {
  "kernelspec": {
   "display_name": "thesis",
   "language": "python",
   "name": "python3"
  },
  "language_info": {
   "codemirror_mode": {
    "name": "ipython",
    "version": 3
   },
   "file_extension": ".py",
   "mimetype": "text/x-python",
   "name": "python",
   "nbconvert_exporter": "python",
   "pygments_lexer": "ipython3",
   "version": "3.10.10"
  },
  "orig_nbformat": 4
 },
 "nbformat": 4,
 "nbformat_minor": 2
}
