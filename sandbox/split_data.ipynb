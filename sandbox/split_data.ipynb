{
 "cells": [
  {
   "cell_type": "code",
   "execution_count": 1,
   "metadata": {},
   "outputs": [],
   "source": [
    "from rich.console import Console\n",
    "from rich.table import Table\n",
    "import os\n",
    "import math\n",
    "import sys"
   ]
  },
  {
   "cell_type": "code",
   "execution_count": 2,
   "metadata": {},
   "outputs": [],
   "source": [
    "sys.path.append(\"../src/\")"
   ]
  },
  {
   "cell_type": "code",
   "execution_count": 14,
   "metadata": {},
   "outputs": [],
   "source": [
    "from util.parse_time import parseTime, order_based_on_file_timestamp, find_matching_time"
   ]
  },
  {
   "cell_type": "code",
   "execution_count": 4,
   "metadata": {},
   "outputs": [],
   "source": [
    "filesSatellite = order_based_on_file_timestamp(os.listdir('../data/preprocessed/satellite'))\n",
    "filesRadar = order_based_on_file_timestamp(os.listdir('../data/preprocessed/radar/'))"
   ]
  },
  {
   "cell_type": "code",
   "execution_count": 19,
   "metadata": {},
   "outputs": [],
   "source": [
    "lastRadar = parseTime(filesRadar[-1])\n",
    "lastSatellite = parseTime(filesSatellite[-1])\n",
    "\n",
    "lastDate = min(lastRadar, lastSatellite)"
   ]
  },
  {
   "cell_type": "code",
   "execution_count": 20,
   "metadata": {},
   "outputs": [],
   "source": [
    "lastTimeMatch = find_matching_time(filesSatellite, lastDate)"
   ]
  },
  {
   "cell_type": "code",
   "execution_count": 21,
   "metadata": {},
   "outputs": [],
   "source": [
    "newFilesSatellite = filesSatellite[0:lastTimeMatch]"
   ]
  },
  {
   "cell_type": "code",
   "execution_count": 22,
   "metadata": {},
   "outputs": [],
   "source": [
    "filesSatelliteAmount = len(newFilesSatellite)\n",
    "filesRadarAmount = len(filesRadar)"
   ]
  },
  {
   "cell_type": "code",
   "execution_count": 23,
   "metadata": {},
   "outputs": [],
   "source": [
    "toRadarResolution = lambda sat: math.floor(sat * (3275 / filesSatelliteAmount))"
   ]
  },
  {
   "cell_type": "code",
   "execution_count": 24,
   "metadata": {},
   "outputs": [],
   "source": [
    "trainSplit = math.floor(filesSatelliteAmount * 0.8)\n",
    "valSplit = math.floor(filesSatelliteAmount * 0.1)\n",
    "testSplit = math.floor(filesSatelliteAmount * 0.1)"
   ]
  },
  {
   "cell_type": "code",
   "execution_count": 25,
   "metadata": {},
   "outputs": [
    {
     "data": {
      "text/html": [
       "<pre style=\"white-space:pre;overflow-x:auto;line-height:normal;font-family:Menlo,'DejaVu Sans Mono',consolas,'Courier New',monospace\"><span style=\"font-style: italic\">                                                       Files                                                       </span>\n",
       "┏━━━━━━━━━━━━━━━━┳━━━━━━━━━━━━━━━━━┳━━━━━━━━━━━━━━━━┳━━━━━━━━━━━━━━━━━┳━━━━━━━━━━━━┳━━━━━━━━━━━━━━━━┳━━━━━━━━━━━━━┓\n",
       "┃<span style=\"font-weight: bold\">                </span>┃<span style=\"font-weight: bold\">                 </span>┃<span style=\"font-weight: bold\">                </span>┃<span style=\"font-weight: bold\">                 </span>┃<span style=\"font-weight: bold\">            </span>┃<span style=\"font-weight: bold\">          Files </span>┃<span style=\"font-weight: bold\">             </span>┃\n",
       "┃<span style=\"font-weight: bold\"> Start Date Sat </span>┃<span style=\"font-weight: bold\">    End Date Sat </span>┃<span style=\"font-weight: bold\"> Start Date Rad </span>┃<span style=\"font-weight: bold\">    End Date Rad </span>┃<span style=\"font-weight: bold\"> Partition  </span>┃<span style=\"font-weight: bold\">      Satellite </span>┃<span style=\"font-weight: bold\"> Files Radar </span>┃\n",
       "┡━━━━━━━━━━━━━━━━╇━━━━━━━━━━━━━━━━━╇━━━━━━━━━━━━━━━━╇━━━━━━━━━━━━━━━━━╇━━━━━━━━━━━━╇━━━━━━━━━━━━━━━━╇━━━━━━━━━━━━━┩\n",
       "│<span style=\"color: #008080; text-decoration-color: #008080\">     2023-04-01 </span>│<span style=\"color: #008080; text-decoration-color: #008080\">      2023-04-12 </span>│<span style=\"color: #008080; text-decoration-color: #008080\">     2023-04-01 </span>│<span style=\"color: #008080; text-decoration-color: #008080\">      2023-04-12 </span>│<span style=\"color: #800080; text-decoration-color: #800080\"> All        </span>│<span style=\"color: #008000; text-decoration-color: #008000\">           1086 </span>│<span style=\"color: #008000; text-decoration-color: #008000\">        3303 </span>│\n",
       "│<span style=\"color: #008080; text-decoration-color: #008080\">       00:12:00 </span>│<span style=\"color: #008080; text-decoration-color: #008080\">        11:12:00 </span>│<span style=\"color: #008080; text-decoration-color: #008080\">       00:05:00 </span>│<span style=\"color: #008080; text-decoration-color: #008080\">        11:15:00 </span>│<span style=\"color: #800080; text-decoration-color: #800080\">            </span>│<span style=\"color: #008000; text-decoration-color: #008000\">                </span>│<span style=\"color: #008000; text-decoration-color: #008000\">             </span>│\n",
       "│<span style=\"color: #008080; text-decoration-color: #008080\">     2023-04-01 </span>│<span style=\"color: #008080; text-decoration-color: #008080\">      2023-04-10 </span>│<span style=\"color: #008080; text-decoration-color: #008080\">     2023-04-01 </span>│<span style=\"color: #008080; text-decoration-color: #008080\">      2023-04-10 </span>│<span style=\"color: #800080; text-decoration-color: #800080\"> Training   </span>│<span style=\"color: #008000; text-decoration-color: #008000\">            868 </span>│<span style=\"color: #008000; text-decoration-color: #008000\">        2617 </span>│\n",
       "│<span style=\"color: #008080; text-decoration-color: #008080\">       00:12:00 </span>│<span style=\"color: #008080; text-decoration-color: #008080\">        04:57:00 </span>│<span style=\"color: #008080; text-decoration-color: #008080\">       00:05:00 </span>│<span style=\"color: #008080; text-decoration-color: #008080\">        02:10:00 </span>│<span style=\"color: #800080; text-decoration-color: #800080\">            </span>│<span style=\"color: #008000; text-decoration-color: #008000\">                </span>│<span style=\"color: #008000; text-decoration-color: #008000\">             </span>│\n",
       "│<span style=\"color: #008080; text-decoration-color: #008080\">     2023-04-10 </span>│<span style=\"color: #008080; text-decoration-color: #008080\">      2023-04-11 </span>│<span style=\"color: #008080; text-decoration-color: #008080\">     2023-04-10 </span>│<span style=\"color: #008080; text-decoration-color: #008080\">      2023-04-11 </span>│<span style=\"color: #800080; text-decoration-color: #800080\"> Validation </span>│<span style=\"color: #008000; text-decoration-color: #008000\">            108 </span>│<span style=\"color: #008000; text-decoration-color: #008000\">         325 </span>│\n",
       "│<span style=\"color: #008080; text-decoration-color: #008080\">       04:57:00 </span>│<span style=\"color: #008080; text-decoration-color: #008080\">        07:57:00 </span>│<span style=\"color: #008080; text-decoration-color: #008080\">       02:10:00 </span>│<span style=\"color: #008080; text-decoration-color: #008080\">        05:20:00 </span>│<span style=\"color: #800080; text-decoration-color: #800080\">            </span>│<span style=\"color: #008000; text-decoration-color: #008000\">                </span>│<span style=\"color: #008000; text-decoration-color: #008000\">             </span>│\n",
       "│<span style=\"color: #008080; text-decoration-color: #008080\">     2023-04-11 </span>│<span style=\"color: #008080; text-decoration-color: #008080\">      2023-04-12 </span>│<span style=\"color: #008080; text-decoration-color: #008080\">     2023-04-11 </span>│<span style=\"color: #008080; text-decoration-color: #008080\">      2023-04-12 </span>│<span style=\"color: #800080; text-decoration-color: #800080\"> Testing    </span>│<span style=\"color: #008000; text-decoration-color: #008000\">            108 </span>│<span style=\"color: #008000; text-decoration-color: #008000\">         325 </span>│\n",
       "│<span style=\"color: #008080; text-decoration-color: #008080\">       07:57:00 </span>│<span style=\"color: #008080; text-decoration-color: #008080\">        10:57:00 </span>│<span style=\"color: #008080; text-decoration-color: #008080\">       05:20:00 </span>│<span style=\"color: #008080; text-decoration-color: #008080\">        08:25:00 </span>│<span style=\"color: #800080; text-decoration-color: #800080\">            </span>│<span style=\"color: #008000; text-decoration-color: #008000\">                </span>│<span style=\"color: #008000; text-decoration-color: #008000\">             </span>│\n",
       "└────────────────┴─────────────────┴────────────────┴─────────────────┴────────────┴────────────────┴─────────────┘\n",
       "</pre>\n"
      ],
      "text/plain": [
       "\u001b[3m                                                       Files                                                       \u001b[0m\n",
       "┏━━━━━━━━━━━━━━━━┳━━━━━━━━━━━━━━━━━┳━━━━━━━━━━━━━━━━┳━━━━━━━━━━━━━━━━━┳━━━━━━━━━━━━┳━━━━━━━━━━━━━━━━┳━━━━━━━━━━━━━┓\n",
       "┃\u001b[1m                \u001b[0m┃\u001b[1m                 \u001b[0m┃\u001b[1m                \u001b[0m┃\u001b[1m                 \u001b[0m┃\u001b[1m            \u001b[0m┃\u001b[1m \u001b[0m\u001b[1m         Files\u001b[0m\u001b[1m \u001b[0m┃\u001b[1m             \u001b[0m┃\n",
       "┃\u001b[1m \u001b[0m\u001b[1mStart Date Sat\u001b[0m\u001b[1m \u001b[0m┃\u001b[1m \u001b[0m\u001b[1m   End Date Sat\u001b[0m\u001b[1m \u001b[0m┃\u001b[1m \u001b[0m\u001b[1mStart Date Rad\u001b[0m\u001b[1m \u001b[0m┃\u001b[1m \u001b[0m\u001b[1m   End Date Rad\u001b[0m\u001b[1m \u001b[0m┃\u001b[1m \u001b[0m\u001b[1mPartition \u001b[0m\u001b[1m \u001b[0m┃\u001b[1m \u001b[0m\u001b[1m     Satellite\u001b[0m\u001b[1m \u001b[0m┃\u001b[1m \u001b[0m\u001b[1mFiles Radar\u001b[0m\u001b[1m \u001b[0m┃\n",
       "┡━━━━━━━━━━━━━━━━╇━━━━━━━━━━━━━━━━━╇━━━━━━━━━━━━━━━━╇━━━━━━━━━━━━━━━━━╇━━━━━━━━━━━━╇━━━━━━━━━━━━━━━━╇━━━━━━━━━━━━━┩\n",
       "│\u001b[36m \u001b[0m\u001b[36m    2023-04-01\u001b[0m\u001b[36m \u001b[0m│\u001b[36m \u001b[0m\u001b[36m     2023-04-12\u001b[0m\u001b[36m \u001b[0m│\u001b[36m \u001b[0m\u001b[36m    2023-04-01\u001b[0m\u001b[36m \u001b[0m│\u001b[36m \u001b[0m\u001b[36m     2023-04-12\u001b[0m\u001b[36m \u001b[0m│\u001b[35m \u001b[0m\u001b[35mAll       \u001b[0m\u001b[35m \u001b[0m│\u001b[32m \u001b[0m\u001b[32m          1086\u001b[0m\u001b[32m \u001b[0m│\u001b[32m \u001b[0m\u001b[32m       3303\u001b[0m\u001b[32m \u001b[0m│\n",
       "│\u001b[36m \u001b[0m\u001b[36m      00:12:00\u001b[0m\u001b[36m \u001b[0m│\u001b[36m \u001b[0m\u001b[36m       11:12:00\u001b[0m\u001b[36m \u001b[0m│\u001b[36m \u001b[0m\u001b[36m      00:05:00\u001b[0m\u001b[36m \u001b[0m│\u001b[36m \u001b[0m\u001b[36m       11:15:00\u001b[0m\u001b[36m \u001b[0m│\u001b[35m            \u001b[0m│\u001b[32m                \u001b[0m│\u001b[32m             \u001b[0m│\n",
       "│\u001b[36m \u001b[0m\u001b[36m    2023-04-01\u001b[0m\u001b[36m \u001b[0m│\u001b[36m \u001b[0m\u001b[36m     2023-04-10\u001b[0m\u001b[36m \u001b[0m│\u001b[36m \u001b[0m\u001b[36m    2023-04-01\u001b[0m\u001b[36m \u001b[0m│\u001b[36m \u001b[0m\u001b[36m     2023-04-10\u001b[0m\u001b[36m \u001b[0m│\u001b[35m \u001b[0m\u001b[35mTraining  \u001b[0m\u001b[35m \u001b[0m│\u001b[32m \u001b[0m\u001b[32m           868\u001b[0m\u001b[32m \u001b[0m│\u001b[32m \u001b[0m\u001b[32m       2617\u001b[0m\u001b[32m \u001b[0m│\n",
       "│\u001b[36m \u001b[0m\u001b[36m      00:12:00\u001b[0m\u001b[36m \u001b[0m│\u001b[36m \u001b[0m\u001b[36m       04:57:00\u001b[0m\u001b[36m \u001b[0m│\u001b[36m \u001b[0m\u001b[36m      00:05:00\u001b[0m\u001b[36m \u001b[0m│\u001b[36m \u001b[0m\u001b[36m       02:10:00\u001b[0m\u001b[36m \u001b[0m│\u001b[35m            \u001b[0m│\u001b[32m                \u001b[0m│\u001b[32m             \u001b[0m│\n",
       "│\u001b[36m \u001b[0m\u001b[36m    2023-04-10\u001b[0m\u001b[36m \u001b[0m│\u001b[36m \u001b[0m\u001b[36m     2023-04-11\u001b[0m\u001b[36m \u001b[0m│\u001b[36m \u001b[0m\u001b[36m    2023-04-10\u001b[0m\u001b[36m \u001b[0m│\u001b[36m \u001b[0m\u001b[36m     2023-04-11\u001b[0m\u001b[36m \u001b[0m│\u001b[35m \u001b[0m\u001b[35mValidation\u001b[0m\u001b[35m \u001b[0m│\u001b[32m \u001b[0m\u001b[32m           108\u001b[0m\u001b[32m \u001b[0m│\u001b[32m \u001b[0m\u001b[32m        325\u001b[0m\u001b[32m \u001b[0m│\n",
       "│\u001b[36m \u001b[0m\u001b[36m      04:57:00\u001b[0m\u001b[36m \u001b[0m│\u001b[36m \u001b[0m\u001b[36m       07:57:00\u001b[0m\u001b[36m \u001b[0m│\u001b[36m \u001b[0m\u001b[36m      02:10:00\u001b[0m\u001b[36m \u001b[0m│\u001b[36m \u001b[0m\u001b[36m       05:20:00\u001b[0m\u001b[36m \u001b[0m│\u001b[35m            \u001b[0m│\u001b[32m                \u001b[0m│\u001b[32m             \u001b[0m│\n",
       "│\u001b[36m \u001b[0m\u001b[36m    2023-04-11\u001b[0m\u001b[36m \u001b[0m│\u001b[36m \u001b[0m\u001b[36m     2023-04-12\u001b[0m\u001b[36m \u001b[0m│\u001b[36m \u001b[0m\u001b[36m    2023-04-11\u001b[0m\u001b[36m \u001b[0m│\u001b[36m \u001b[0m\u001b[36m     2023-04-12\u001b[0m\u001b[36m \u001b[0m│\u001b[35m \u001b[0m\u001b[35mTesting   \u001b[0m\u001b[35m \u001b[0m│\u001b[32m \u001b[0m\u001b[32m           108\u001b[0m\u001b[32m \u001b[0m│\u001b[32m \u001b[0m\u001b[32m        325\u001b[0m\u001b[32m \u001b[0m│\n",
       "│\u001b[36m \u001b[0m\u001b[36m      07:57:00\u001b[0m\u001b[36m \u001b[0m│\u001b[36m \u001b[0m\u001b[36m       10:57:00\u001b[0m\u001b[36m \u001b[0m│\u001b[36m \u001b[0m\u001b[36m      05:20:00\u001b[0m\u001b[36m \u001b[0m│\u001b[36m \u001b[0m\u001b[36m       08:25:00\u001b[0m\u001b[36m \u001b[0m│\u001b[35m            \u001b[0m│\u001b[32m                \u001b[0m│\u001b[32m             \u001b[0m│\n",
       "└────────────────┴─────────────────┴────────────────┴─────────────────┴────────────┴────────────────┴─────────────┘\n"
      ]
     },
     "metadata": {},
     "output_type": "display_data"
    }
   ],
   "source": [
    "table = Table(title=\"Files\")\n",
    "\n",
    "table.add_column(\"Start Date Sat\", justify=\"right\", style=\"cyan\")\n",
    "table.add_column(\"End Date Sat\", justify=\"right\", style=\"cyan\")\n",
    "table.add_column(\"Start Date Rad\", justify=\"right\", style=\"cyan\")\n",
    "table.add_column(\"End Date Rad\", justify=\"right\", style=\"cyan\")\n",
    "table.add_column(\"Partition\", style=\"magenta\")\n",
    "table.add_column(\"Files Satellite\", justify=\"right\", style=\"green\")\n",
    "table.add_column(\"Files Radar\", justify=\"right\", style=\"green\")\n",
    "\n",
    "table.add_row(\n",
    "    str(parseTime(newFilesSatellite[0])),\n",
    "    str(parseTime(newFilesSatellite[-1])),\n",
    "    str(parseTime(filesRadar[0])),\n",
    "    str(parseTime(filesRadar[-1])),\n",
    "    \"All\",\n",
    "    str(filesSatelliteAmount),\n",
    "    str(filesRadarAmount)\n",
    ")\n",
    "\n",
    "table.add_row(\n",
    "    str(parseTime(newFilesSatellite[0])),\n",
    "    str(parseTime(newFilesSatellite[trainSplit])),\n",
    "    str(parseTime(filesRadar[toRadarResolution(0)])),\n",
    "    str(parseTime(filesRadar[toRadarResolution(trainSplit)])),\n",
    "    \"Training\",\n",
    "    str(trainSplit),\n",
    "    str(toRadarResolution(trainSplit))\n",
    ")\n",
    "table.add_row(\n",
    "    str(parseTime(newFilesSatellite[trainSplit])),\n",
    "    str(parseTime(newFilesSatellite[trainSplit + valSplit])),\n",
    "        str(parseTime(filesRadar[toRadarResolution(trainSplit)])),\n",
    "    str(parseTime(filesRadar[toRadarResolution(trainSplit + valSplit)])),\n",
    "    \"Validation\",\n",
    "    str(valSplit),\n",
    "    str(toRadarResolution(valSplit))\n",
    ")\n",
    "table.add_row(\n",
    "    str(parseTime(newFilesSatellite[trainSplit + valSplit])),\n",
    "    str(parseTime(newFilesSatellite[trainSplit + valSplit + testSplit])),\n",
    "        str(parseTime(filesRadar[toRadarResolution(trainSplit + valSplit)])),\n",
    "    str(parseTime(filesRadar[toRadarResolution(trainSplit+valSplit+testSplit)])),\n",
    "    \"Testing\",\n",
    "    str(testSplit),\n",
    "    str(toRadarResolution(testSplit))\n",
    ")\n",
    "\n",
    "\n",
    "console = Console()\n",
    "console.print(table)"
   ]
  },
  {
   "cell_type": "code",
   "execution_count": null,
   "metadata": {},
   "outputs": [],
   "source": []
  },
  {
   "cell_type": "code",
   "execution_count": null,
   "metadata": {},
   "outputs": [],
   "source": []
  }
 ],
 "metadata": {
  "kernelspec": {
   "display_name": "torch",
   "language": "python",
   "name": "python3"
  },
  "language_info": {
   "codemirror_mode": {
    "name": "ipython",
    "version": 3
   },
   "file_extension": ".py",
   "mimetype": "text/x-python",
   "name": "python",
   "nbconvert_exporter": "python",
   "pygments_lexer": "ipython3",
   "version": "3.10.10"
  },
  "orig_nbformat": 4
 },
 "nbformat": 4,
 "nbformat_minor": 2
}
