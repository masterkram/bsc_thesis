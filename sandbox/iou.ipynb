{
 "cells": [
  {
   "cell_type": "code",
   "execution_count": 10,
   "metadata": {},
   "outputs": [],
   "source": [
    "import torch\n",
    "import matplotlib.pyplot as plt"
   ]
  },
  {
   "cell_type": "code",
   "execution_count": 1,
   "metadata": {},
   "outputs": [],
   "source": [
    "import torchmetrics"
   ]
  },
  {
   "cell_type": "code",
   "execution_count": 2,
   "metadata": {},
   "outputs": [],
   "source": [
    "cm = torchmetrics.ConfusionMatrix('multiclass', num_classes=8)"
   ]
  },
  {
   "cell_type": "code",
   "execution_count": null,
   "metadata": {},
   "outputs": [],
   "source": []
  },
  {
   "cell_type": "code",
   "execution_count": 8,
   "metadata": {},
   "outputs": [],
   "source": [
    "y = torch.randint(0, 7, (4, 4))"
   ]
  },
  {
   "cell_type": "code",
   "execution_count": 9,
   "metadata": {},
   "outputs": [],
   "source": [
    "yhat = torch.randint(0, 7, (4, 4))"
   ]
  },
  {
   "cell_type": "code",
   "execution_count": 43,
   "metadata": {},
   "outputs": [
    {
     "data": {
      "text/plain": [
       "tensor([[5, 5, 3, 5],\n",
       "        [5, 2, 2, 1],\n",
       "        [0, 1, 3, 6],\n",
       "        [2, 4, 3, 1]])"
      ]
     },
     "execution_count": 43,
     "metadata": {},
     "output_type": "execute_result"
    }
   ],
   "source": [
    "y"
   ]
  },
  {
   "cell_type": "code",
   "execution_count": 44,
   "metadata": {},
   "outputs": [
    {
     "data": {
      "text/plain": [
       "tensor([[0, 2, 1, 1],\n",
       "        [2, 3, 4, 6],\n",
       "        [0, 5, 2, 2],\n",
       "        [6, 1, 5, 3]])"
      ]
     },
     "execution_count": 44,
     "metadata": {},
     "output_type": "execute_result"
    }
   ],
   "source": [
    "yhat"
   ]
  },
  {
   "cell_type": "code",
   "execution_count": 42,
   "metadata": {},
   "outputs": [
    {
     "data": {
      "image/png": "[encoded data removed]",
      "text/plain": [
       "<Figure size 640x480 with 2 Axes>"
      ]
     },
     "metadata": {},
     "output_type": "display_data"
    }
   ],
   "source": [
    "fig, axes = plt.subplots(1, 2)\n",
    "axes[0].set_title(\"y\")\n",
    "axes[0].imshow(y.detach())\n",
    "axes[1].set_title(\"$\\hat{y}$\")\n",
    "axes[1].imshow(yhat.detach())\n",
    "axes[0].grid(True)\n",
    "axes[1].grid(True)"
   ]
  },
  {
   "cell_type": "code",
   "execution_count": 21,
   "metadata": {},
   "outputs": [],
   "source": [
    "min_length = 8**2"
   ]
  },
  {
   "cell_type": "code",
   "execution_count": 28,
   "metadata": {},
   "outputs": [],
   "source": [
    "yflat = y.flatten()\n",
    "yhatflat = yhat.flatten()"
   ]
  },
  {
   "cell_type": "code",
   "execution_count": 29,
   "metadata": {},
   "outputs": [],
   "source": [
    "mapping = yflat.to(torch.long) * 8 + yhatflat.to(torch.long)\n"
   ]
  },
  {
   "cell_type": "code",
   "execution_count": 30,
   "metadata": {},
   "outputs": [],
   "source": [
    "bins = torch.bincount(mapping, minlength=min_length)"
   ]
  },
  {
   "cell_type": "code",
   "execution_count": 31,
   "metadata": {},
   "outputs": [
    {
     "data": {
      "text/plain": [
       "tensor([1, 0, 0, 0, 0, 0, 0, 0, 0, 0, 0, 1, 0, 1, 1, 0, 0, 0, 0, 1, 1, 0, 1, 0,\n",
       "        0, 1, 1, 0, 0, 1, 0, 0, 0, 1, 0, 0, 0, 0, 0, 0, 1, 1, 2, 0, 0, 0, 0, 0,\n",
       "        0, 0, 1, 0, 0, 0, 0, 0, 0, 0, 0, 0, 0, 0, 0, 0])"
      ]
     },
     "execution_count": 31,
     "metadata": {},
     "output_type": "execute_result"
    }
   ],
   "source": [
    "bins"
   ]
  },
  {
   "cell_type": "code",
   "execution_count": 33,
   "metadata": {},
   "outputs": [],
   "source": [
    "viewBins = bins.reshape(8,8)"
   ]
  },
  {
   "cell_type": "code",
   "execution_count": 45,
   "metadata": {},
   "outputs": [
    {
     "data": {
      "text/plain": [
       "Text(0.5, 0, 'prediction')"
      ]
     },
     "execution_count": 45,
     "metadata": {},
     "output_type": "execute_result"
    },
    {
     "data": {
      "image/png": "[encoded data removed]",
      "text/plain": [
       "<Figure size 640x480 with 1 Axes>"
      ]
     },
     "metadata": {},
     "output_type": "display_data"
    }
   ],
   "source": [
    "plt.imshow(viewBins.detach())\n",
    "plt.ylabel(\"expected\")\n",
    "plt.xlabel(\"prediction\")"
   ]
  },
  {
   "cell_type": "code",
   "execution_count": 46,
   "metadata": {},
   "outputs": [],
   "source": [
    "num = torch.diag(viewBins)\n",
    "denom = viewBins.sum(0) + viewBins.sum(1) - num"
   ]
  },
  {
   "cell_type": "code",
   "execution_count": 47,
   "metadata": {},
   "outputs": [
    {
     "data": {
      "text/plain": [
       "tensor([1, 0, 0, 0, 0, 0, 0, 0])"
      ]
     },
     "execution_count": 47,
     "metadata": {},
     "output_type": "execute_result"
    }
   ],
   "source": [
    "num"
   ]
  },
  {
   "cell_type": "code",
   "execution_count": 48,
   "metadata": {},
   "outputs": [
    {
     "data": {
      "text/plain": [
       "tensor([2, 6, 7, 5, 2, 6, 3, 0])"
      ]
     },
     "execution_count": 48,
     "metadata": {},
     "output_type": "execute_result"
    }
   ],
   "source": [
    "denom"
   ]
  },
  {
   "cell_type": "code",
   "execution_count": 50,
   "metadata": {},
   "outputs": [],
   "source": [
    "def _safe_divide(num: torch.Tensor, denom: torch.Tensor) -> torch.Tensor:\n",
    "    \"\"\"Safe division, by preventing division by zero.\n",
    "\n",
    "    Additionally casts to float if input is not already to secure backwards compatibility.\n",
    "    \"\"\"\n",
    "    denom[denom == 0.0] = 1\n",
    "    num = num if num.is_floating_point() else num.float()\n",
    "    denom = denom if denom.is_floating_point() else denom.float()\n",
    "    return num / denom"
   ]
  },
  {
   "cell_type": "code",
   "execution_count": 49,
   "metadata": {},
   "outputs": [],
   "source": [
    "num = num.sum()\n",
    "denom = denom.sum()"
   ]
  },
  {
   "cell_type": "code",
   "execution_count": 52,
   "metadata": {},
   "outputs": [],
   "source": [
    "jaccard = _safe_divide(num, denom)"
   ]
  },
  {
   "cell_type": "code",
   "execution_count": 53,
   "metadata": {},
   "outputs": [
    {
     "data": {
      "text/plain": [
       "tensor(0.0323)"
      ]
     },
     "execution_count": 53,
     "metadata": {},
     "output_type": "execute_result"
    }
   ],
   "source": [
    "jaccard"
   ]
  },
  {
   "cell_type": "code",
   "execution_count": null,
   "metadata": {},
   "outputs": [],
   "source": [
    "from torch import nn\n",
    "from typing import Optional\n",
    "\n",
    "def _bincount(x: torch.Tensor, minlength: Optional[int] = None) -> torch.Tensor:\n",
    "    \"\"\"Implement custom bincount.\n",
    "\n",
    "    PyTorch currently does not support ``torch.bincount`` for:\n",
    "\n",
    "        - deterministic mode on GPU.\n",
    "        - MPS devices\n",
    "\n",
    "    This implementation fallback to a for-loop counting occurrences in that case.\n",
    "\n",
    "    Args:\n",
    "        x: tensor to count\n",
    "        minlength: minimum length to count\n",
    "\n",
    "    Returns:\n",
    "        Number of occurrences for each unique element in x\n",
    "\n",
    "    Example:\n",
    "        >>> x = torch.tensor([0,0,0,1,1,2,2,2,2])\n",
    "        >>> _bincount(x, minlength=3)\n",
    "        tensor([3, 2, 4])\n",
    "\n",
    "    \"\"\"\n",
    "    if minlength is None:\n",
    "        minlength = len(torch.unique(x))\n",
    "    if torch.are_deterministic_algorithms_enabled() or _XLA_AVAILABLE or _TORCH_GREATER_EQUAL_1_12 and x.is_mps:\n",
    "        output = torch.zeros(minlength, device=x.device, dtype=torch.long)\n",
    "        for i in range(minlength):\n",
    "            output[i] = (x == i).sum()\n",
    "        return output\n",
    "    return torch.bincount(x, minlength=minlength)\n",
    "\n",
    "class IoULoss(nn.Module):\n",
    "    num_classes: int\n",
    "\n",
    "    def __init__(self, num_classes):\n",
    "        super().__init__()\n",
    "        self.num_classes = num_classes\n",
    "        self.min_length = num_classes**2\n",
    "        \n",
    "    def cuda_bins():\n",
    "\n",
    "\n",
    "    def forward(self, predicted, expected):\n",
    "        p, e = predicted.flatten(), expected.flatten()\n",
    "        unique_mapping = e.to(torch.long) * 8 + p.to(torch.long)\n",
    "        "
   ]
  }
 ],
 "metadata": {
  "kernelspec": {
   "display_name": "torch",
   "language": "python",
   "name": "python3"
  },
  "language_info": {
   "codemirror_mode": {
    "name": "ipython",
    "version": 3
   },
   "file_extension": ".py",
   "mimetype": "text/x-python",
   "name": "python",
   "nbconvert_exporter": "python",
   "pygments_lexer": "ipython3",
   "version": "3.10.10"
  },
  "orig_nbformat": 4
 },
 "nbformat": 4,
 "nbformat_minor": 2
}
