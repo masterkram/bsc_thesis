{
 "cells": [
  {
   "cell_type": "code",
   "execution_count": 3,
   "metadata": {},
   "outputs": [],
   "source": [
    "from torch import nn\n",
    "import torch"
   ]
  },
  {
   "cell_type": "code",
   "execution_count": 25,
   "metadata": {},
   "outputs": [],
   "source": [
    "m = nn.Softmax2d()\n",
    "# you softmax over the 2nd dimension\n",
    "input = torch.randn(2, 3, 12, 13)\n",
    "output = m(input)"
   ]
  },
  {
   "cell_type": "code",
   "execution_count": 47,
   "metadata": {},
   "outputs": [
    {
     "data": {
      "text/plain": [
       "tensor([0.0973, 0.5746, 0.3281])"
      ]
     },
     "execution_count": 47,
     "metadata": {},
     "output_type": "execute_result"
    }
   ],
   "source": [
    "output[0, :, 0, 0]"
   ]
  },
  {
   "cell_type": "code",
   "execution_count": 22,
   "metadata": {},
   "outputs": [
    {
     "data": {
      "text/plain": [
       "tensor(1.8679)"
      ]
     },
     "execution_count": 22,
     "metadata": {},
     "output_type": "execute_result"
    }
   ],
   "source": []
  },
  {
   "cell_type": "code",
   "execution_count": 31,
   "metadata": {},
   "outputs": [],
   "source": [
    "x = torch.randn(1, 2, 4)"
   ]
  },
  {
   "cell_type": "code",
   "execution_count": 32,
   "metadata": {},
   "outputs": [
    {
     "data": {
      "text/plain": [
       "tensor([[[ 1.0825,  1.3742,  0.9542,  0.4647],\n",
       "         [ 1.1483, -1.4164,  0.0897,  0.3510]]])"
      ]
     },
     "execution_count": 32,
     "metadata": {},
     "output_type": "execute_result"
    }
   ],
   "source": [
    "x"
   ]
  },
  {
   "cell_type": "code",
   "execution_count": 35,
   "metadata": {},
   "outputs": [],
   "source": [
    "y = x.view(1, 4, 2)"
   ]
  },
  {
   "cell_type": "code",
   "execution_count": 36,
   "metadata": {},
   "outputs": [
    {
     "data": {
      "text/plain": [
       "tensor([[[ 1.0825,  1.3742],\n",
       "         [ 0.9542,  0.4647],\n",
       "         [ 1.1483, -1.4164],\n",
       "         [ 0.0897,  0.3510]]])"
      ]
     },
     "execution_count": 36,
     "metadata": {},
     "output_type": "execute_result"
    }
   ],
   "source": [
    "y"
   ]
  },
  {
   "cell_type": "code",
   "execution_count": 37,
   "metadata": {},
   "outputs": [
    {
     "data": {
      "text/plain": [
       "tensor([[[ 1.0825,  1.3742,  0.9542,  0.4647],\n",
       "         [ 1.1483, -1.4164,  0.0897,  0.3510]]])"
      ]
     },
     "execution_count": 37,
     "metadata": {},
     "output_type": "execute_result"
    }
   ],
   "source": [
    "y.view(1, 2, 4)"
   ]
  },
  {
   "cell_type": "code",
   "execution_count": 38,
   "metadata": {},
   "outputs": [],
   "source": [
    "t = torch.randn(1, 2, 4, 4)"
   ]
  },
  {
   "cell_type": "code",
   "execution_count": 39,
   "metadata": {},
   "outputs": [
    {
     "data": {
      "text/plain": [
       "tensor([[[[-1.2737,  0.5684, -0.1669, -0.8631],\n",
       "          [ 1.3190, -1.2421, -1.1098,  0.0783],\n",
       "          [-1.4254,  0.5533, -0.0481,  1.3027],\n",
       "          [ 0.6334, -0.1179, -0.3327, -0.6344]],\n",
       "\n",
       "         [[-0.2250, -0.6053,  1.1307, -0.5005],\n",
       "          [ 0.2117, -0.2631,  0.3758, -1.2461],\n",
       "          [ 0.3162,  1.3132, -0.2957, -0.1001],\n",
       "          [ 0.2567,  0.3031,  0.2611, -1.9861]]]])"
      ]
     },
     "execution_count": 39,
     "metadata": {},
     "output_type": "execute_result"
    }
   ],
   "source": [
    "t"
   ]
  },
  {
   "cell_type": "code",
   "execution_count": 40,
   "metadata": {},
   "outputs": [
    {
     "data": {
      "text/plain": [
       "tensor([[[[-1.2737,  0.5684],\n",
       "          [-0.1669, -0.8631],\n",
       "          [ 1.3190, -1.2421],\n",
       "          [-1.1098,  0.0783]],\n",
       "\n",
       "         [[-1.4254,  0.5533],\n",
       "          [-0.0481,  1.3027],\n",
       "          [ 0.6334, -0.1179],\n",
       "          [-0.3327, -0.6344]],\n",
       "\n",
       "         [[-0.2250, -0.6053],\n",
       "          [ 1.1307, -0.5005],\n",
       "          [ 0.2117, -0.2631],\n",
       "          [ 0.3758, -1.2461]],\n",
       "\n",
       "         [[ 0.3162,  1.3132],\n",
       "          [-0.2957, -0.1001],\n",
       "          [ 0.2567,  0.3031],\n",
       "          [ 0.2611, -1.9861]]]])"
      ]
     },
     "execution_count": 40,
     "metadata": {},
     "output_type": "execute_result"
    }
   ],
   "source": [
    "t.view(1, 4, 4, 2)"
   ]
  },
  {
   "cell_type": "code",
   "execution_count": 42,
   "metadata": {},
   "outputs": [
    {
     "data": {
      "text/plain": [
       "tensor([-1.2421, -0.2631])"
      ]
     },
     "execution_count": 42,
     "metadata": {},
     "output_type": "execute_result"
    }
   ],
   "source": [
    "t[0, :, 1, 1]"
   ]
  },
  {
   "cell_type": "code",
   "execution_count": 48,
   "metadata": {},
   "outputs": [],
   "source": [
    "result = torch.argmax(output, 1)"
   ]
  },
  {
   "cell_type": "code",
   "execution_count": 49,
   "metadata": {},
   "outputs": [
    {
     "data": {
      "text/plain": [
       "tensor(1)"
      ]
     },
     "execution_count": 49,
     "metadata": {},
     "output_type": "execute_result"
    }
   ],
   "source": [
    "result[0, 0, 0]"
   ]
  },
  {
   "cell_type": "code",
   "execution_count": null,
   "metadata": {},
   "outputs": [],
   "source": []
  }
 ],
 "metadata": {
  "kernelspec": {
   "display_name": "torch",
   "language": "python",
   "name": "python3"
  },
  "language_info": {
   "codemirror_mode": {
    "name": "ipython",
    "version": 3
   },
   "file_extension": ".py",
   "mimetype": "text/x-python",
   "name": "python",
   "nbconvert_exporter": "python",
   "pygments_lexer": "ipython3",
   "version": "3.10.10"
  },
  "orig_nbformat": 4
 },
 "nbformat": 4,
 "nbformat_minor": 2
}
