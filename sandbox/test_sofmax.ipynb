{
 "cells": [
  {
   "cell_type": "code",
   "execution_count": 2,
   "metadata": {},
   "outputs": [],
   "source": [
    "from torch import nn\n",
    "import torch"
   ]
  },
  {
   "cell_type": "code",
   "execution_count": 10,
   "metadata": {},
   "outputs": [
    {
     "ename": "TypeError",
     "evalue": "Softmax.__init__() takes from 1 to 2 positional arguments but 3 were given",
     "output_type": "error",
     "traceback": [
      "\u001b[0;31m---------------------------------------------------------------------------\u001b[0m",
      "\u001b[0;31mTypeError\u001b[0m                                 Traceback (most recent call last)",
      "Cell \u001b[0;32mIn[10], line 2\u001b[0m\n\u001b[1;32m      1\u001b[0m weights \u001b[39m=\u001b[39m torch\u001b[39m.\u001b[39mTensor([\u001b[39m0.01\u001b[39m, \u001b[39m0.05\u001b[39m, \u001b[39m0.1\u001b[39m, \u001b[39m0.1\u001b[39m, \u001b[39m0.1\u001b[39m, \u001b[39m0.1\u001b[39m, \u001b[39m0.1\u001b[39m, \u001b[39m0.1\u001b[39m, \u001b[39m0.1\u001b[39m, \u001b[39m0.1\u001b[39m, \u001b[39m0.1\u001b[39m, \u001b[39m0.1\u001b[39m, \u001b[39m0.1\u001b[39m])\n\u001b[0;32m----> 2\u001b[0m m \u001b[39m=\u001b[39m nn\u001b[39m.\u001b[39;49mSoftmax(\u001b[39m2\u001b[39;49m, weights)\n\u001b[1;32m      3\u001b[0m \u001b[39m# you softmax over the 2nd dimension\u001b[39;00m\n\u001b[1;32m      4\u001b[0m \u001b[39minput\u001b[39m \u001b[39m=\u001b[39m torch\u001b[39m.\u001b[39mrandn(\u001b[39m2\u001b[39m, \u001b[39m3\u001b[39m, \u001b[39m12\u001b[39m, \u001b[39m13\u001b[39m)\n",
      "\u001b[0;31mTypeError\u001b[0m: Softmax.__init__() takes from 1 to 2 positional arguments but 3 were given"
     ]
    }
   ],
   "source": [
    "\n",
    "m = nn.Softmax(2, weights)\n",
    "# you softmax over the 2nd dimension\n",
    "input = torch.randn(2, 3, 12, 13)\n",
    "output = m(input)"
   ]
  },
  {
   "cell_type": "code",
   "execution_count": 138,
   "metadata": {},
   "outputs": [],
   "source": [
    "weights = torch.tensor([0.0001, 0.001, 0.002, 0.003, 0.004, 0.009, 0.01, 0.01, 0.04, 0.05, 0.12, 0.15, 0.2, 0.4009])"
   ]
  },
  {
   "cell_type": "code",
   "execution_count": 139,
   "metadata": {},
   "outputs": [
    {
     "data": {
      "text/plain": [
       "tensor(1.)"
      ]
     },
     "execution_count": 139,
     "metadata": {},
     "output_type": "execute_result"
    }
   ],
   "source": [
    "sum(weights)"
   ]
  },
  {
   "cell_type": "code",
   "execution_count": 35,
   "metadata": {},
   "outputs": [
    {
     "data": {
      "text/plain": [
       "tensor([0.3213, 0.1263, 0.5523])"
      ]
     },
     "execution_count": 35,
     "metadata": {},
     "output_type": "execute_result"
    }
   ],
   "source": [
    "output[0, :, 0, 0]"
   ]
  },
  {
   "cell_type": "code",
   "execution_count": 22,
   "metadata": {},
   "outputs": [
    {
     "data": {
      "text/plain": [
       "tensor(1.8679)"
      ]
     },
     "execution_count": 22,
     "metadata": {},
     "output_type": "execute_result"
    }
   ],
   "source": []
  },
  {
   "cell_type": "code",
   "execution_count": 31,
   "metadata": {},
   "outputs": [],
   "source": [
    "x = torch.randn(1, 2, 4)"
   ]
  },
  {
   "cell_type": "code",
   "execution_count": 32,
   "metadata": {},
   "outputs": [
    {
     "data": {
      "text/plain": [
       "tensor([[[ 1.0825,  1.3742,  0.9542,  0.4647],\n",
       "         [ 1.1483, -1.4164,  0.0897,  0.3510]]])"
      ]
     },
     "execution_count": 32,
     "metadata": {},
     "output_type": "execute_result"
    }
   ],
   "source": [
    "x"
   ]
  },
  {
   "cell_type": "code",
   "execution_count": 35,
   "metadata": {},
   "outputs": [],
   "source": [
    "y = x.view(1, 4, 2)"
   ]
  },
  {
   "cell_type": "code",
   "execution_count": 36,
   "metadata": {},
   "outputs": [
    {
     "data": {
      "text/plain": [
       "tensor([[[ 1.0825,  1.3742],\n",
       "         [ 0.9542,  0.4647],\n",
       "         [ 1.1483, -1.4164],\n",
       "         [ 0.0897,  0.3510]]])"
      ]
     },
     "execution_count": 36,
     "metadata": {},
     "output_type": "execute_result"
    }
   ],
   "source": [
    "y"
   ]
  },
  {
   "cell_type": "code",
   "execution_count": 37,
   "metadata": {},
   "outputs": [
    {
     "data": {
      "text/plain": [
       "tensor([[[ 1.0825,  1.3742,  0.9542,  0.4647],\n",
       "         [ 1.1483, -1.4164,  0.0897,  0.3510]]])"
      ]
     },
     "execution_count": 37,
     "metadata": {},
     "output_type": "execute_result"
    }
   ],
   "source": [
    "y.view(1, 2, 4)"
   ]
  },
  {
   "cell_type": "code",
   "execution_count": 38,
   "metadata": {},
   "outputs": [],
   "source": [
    "t = torch.randn(1, 2, 4, 4)"
   ]
  },
  {
   "cell_type": "code",
   "execution_count": 39,
   "metadata": {},
   "outputs": [
    {
     "data": {
      "text/plain": [
       "tensor([[[[-1.2737,  0.5684, -0.1669, -0.8631],\n",
       "          [ 1.3190, -1.2421, -1.1098,  0.0783],\n",
       "          [-1.4254,  0.5533, -0.0481,  1.3027],\n",
       "          [ 0.6334, -0.1179, -0.3327, -0.6344]],\n",
       "\n",
       "         [[-0.2250, -0.6053,  1.1307, -0.5005],\n",
       "          [ 0.2117, -0.2631,  0.3758, -1.2461],\n",
       "          [ 0.3162,  1.3132, -0.2957, -0.1001],\n",
       "          [ 0.2567,  0.3031,  0.2611, -1.9861]]]])"
      ]
     },
     "execution_count": 39,
     "metadata": {},
     "output_type": "execute_result"
    }
   ],
   "source": [
    "t"
   ]
  },
  {
   "cell_type": "code",
   "execution_count": 40,
   "metadata": {},
   "outputs": [
    {
     "data": {
      "text/plain": [
       "tensor([[[[-1.2737,  0.5684],\n",
       "          [-0.1669, -0.8631],\n",
       "          [ 1.3190, -1.2421],\n",
       "          [-1.1098,  0.0783]],\n",
       "\n",
       "         [[-1.4254,  0.5533],\n",
       "          [-0.0481,  1.3027],\n",
       "          [ 0.6334, -0.1179],\n",
       "          [-0.3327, -0.6344]],\n",
       "\n",
       "         [[-0.2250, -0.6053],\n",
       "          [ 1.1307, -0.5005],\n",
       "          [ 0.2117, -0.2631],\n",
       "          [ 0.3758, -1.2461]],\n",
       "\n",
       "         [[ 0.3162,  1.3132],\n",
       "          [-0.2957, -0.1001],\n",
       "          [ 0.2567,  0.3031],\n",
       "          [ 0.2611, -1.9861]]]])"
      ]
     },
     "execution_count": 40,
     "metadata": {},
     "output_type": "execute_result"
    }
   ],
   "source": [
    "t.view(1, 4, 4, 2)"
   ]
  },
  {
   "cell_type": "code",
   "execution_count": 42,
   "metadata": {},
   "outputs": [
    {
     "data": {
      "text/plain": [
       "tensor([-1.2421, -0.2631])"
      ]
     },
     "execution_count": 42,
     "metadata": {},
     "output_type": "execute_result"
    }
   ],
   "source": [
    "t[0, :, 1, 1]"
   ]
  },
  {
   "cell_type": "code",
   "execution_count": 48,
   "metadata": {},
   "outputs": [],
   "source": [
    "result = torch.argmax(output, 1)"
   ]
  },
  {
   "cell_type": "code",
   "execution_count": 49,
   "metadata": {},
   "outputs": [
    {
     "data": {
      "text/plain": [
       "tensor(1)"
      ]
     },
     "execution_count": 49,
     "metadata": {},
     "output_type": "execute_result"
    }
   ],
   "source": [
    "result[0, 0, 0]"
   ]
  },
  {
   "cell_type": "code",
   "execution_count": null,
   "metadata": {},
   "outputs": [],
   "source": []
  }
 ],
 "metadata": {
  "kernelspec": {
   "display_name": "torch",
   "language": "python",
   "name": "python3"
  },
  "language_info": {
   "codemirror_mode": {
    "name": "ipython",
    "version": 3
   },
   "file_extension": ".py",
   "mimetype": "text/x-python",
   "name": "python",
   "nbconvert_exporter": "python",
   "pygments_lexer": "ipython3",
   "version": "3.10.10"
  },
  "orig_nbformat": 4
 },
 "nbformat": 4,
 "nbformat_minor": 2
}
