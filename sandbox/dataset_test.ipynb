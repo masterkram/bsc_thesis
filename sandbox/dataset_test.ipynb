{
 "cells": [
  {
   "attachments": {},
   "cell_type": "markdown",
   "metadata": {},
   "source": [
    "# How To Make Sequences"
   ]
  },
  {
   "attachments": {},
   "cell_type": "markdown",
   "metadata": {},
   "source": [
    "+ match files\n",
    "+ order files based on timestamp\n",
    "  + single array being passed.\n",
    "  + faster get item."
   ]
  },
  {
   "cell_type": "code",
   "execution_count": 7,
   "metadata": {},
   "outputs": [],
   "source": [
    "import torch\n",
    "from torchvision import datasets\n",
    "import numpy as np\n",
    "import os\n",
    "import sys"
   ]
  },
  {
   "cell_type": "code",
   "execution_count": 10,
   "metadata": {},
   "outputs": [],
   "source": [
    "sys.path.append('../ml_variants/conv_lstm/pipelines/training/')"
   ]
  },
  {
   "cell_type": "code",
   "execution_count": 11,
   "metadata": {},
   "outputs": [],
   "source": [
    "from utils.parse_time import order_based_on_file_timestamp"
   ]
  },
  {
   "cell_type": "code",
   "execution_count": 17,
   "metadata": {},
   "outputs": [],
   "source": [
    "radar = os.listdir('../data/preprocessed/radar/')"
   ]
  },
  {
   "cell_type": "code",
   "execution_count": 18,
   "metadata": {},
   "outputs": [],
   "source": [
    "satellite = os.listdir('../data/preprocessed/satellite/')"
   ]
  },
  {
   "cell_type": "code",
   "execution_count": 19,
   "metadata": {},
   "outputs": [],
   "source": [
    "combined = radar + satellite"
   ]
  },
  {
   "cell_type": "code",
   "execution_count": 20,
   "metadata": {},
   "outputs": [
    {
     "data": {
      "text/plain": [
       "['radar_nl_202304210005.npy',\n",
       " 'radar_nl_202304210010.npy',\n",
       " 'MSG3-SEVI-MSG15-0100-NA-20230421001241.363000000Z-NA.npy',\n",
       " 'radar_nl_202304210015.npy',\n",
       " 'radar_nl_202304210020.npy',\n",
       " 'radar_nl_202304210025.npy',\n",
       " 'MSG3-SEVI-MSG15-0100-NA-20230421002741.345000000Z-NA.npy',\n",
       " 'radar_nl_202304210030.npy',\n",
       " 'radar_nl_202304210035.npy',\n",
       " 'radar_nl_202304210040.npy',\n",
       " 'MSG3-SEVI-MSG15-0100-NA-20230421004241.327000000Z-NA.npy',\n",
       " 'radar_nl_202304210045.npy',\n",
       " 'radar_nl_202304210050.npy',\n",
       " 'radar_nl_202304210055.npy',\n",
       " 'MSG3-SEVI-MSG15-0100-NA-20230421005741.310000000Z-NA.npy',\n",
       " 'radar_nl_202304210100.npy',\n",
       " 'radar_nl_202304210105.npy',\n",
       " 'radar_nl_202304210110.npy',\n",
       " 'MSG3-SEVI-MSG15-0100-NA-20230421011241.292000000Z-NA.npy',\n",
       " 'radar_nl_202304210115.npy',\n",
       " 'radar_nl_202304210120.npy',\n",
       " 'radar_nl_202304210125.npy',\n",
       " 'MSG3-SEVI-MSG15-0100-NA-20230421012741.274000000Z-NA.npy',\n",
       " 'radar_nl_202304210130.npy',\n",
       " 'radar_nl_202304210135.npy',\n",
       " 'radar_nl_202304210140.npy',\n",
       " 'MSG3-SEVI-MSG15-0100-NA-20230421014241.257000000Z-NA.npy',\n",
       " 'radar_nl_202304210145.npy',\n",
       " 'radar_nl_202304210150.npy',\n",
       " 'radar_nl_202304210155.npy',\n",
       " 'MSG3-SEVI-MSG15-0100-NA-20230421015741.239000000Z-NA.npy',\n",
       " 'radar_nl_202304210200.npy',\n",
       " 'radar_nl_202304210205.npy',\n",
       " 'radar_nl_202304210210.npy',\n",
       " 'MSG3-SEVI-MSG15-0100-NA-20230421021241.220000000Z-NA.npy',\n",
       " 'radar_nl_202304210215.npy',\n",
       " 'radar_nl_202304210220.npy',\n",
       " 'radar_nl_202304210225.npy',\n",
       " 'MSG3-SEVI-MSG15-0100-NA-20230421022741.202000000Z-NA.npy',\n",
       " 'radar_nl_202304210230.npy',\n",
       " 'radar_nl_202304210235.npy',\n",
       " 'radar_nl_202304210240.npy',\n",
       " 'MSG3-SEVI-MSG15-0100-NA-20230421024241.184000000Z-NA.npy',\n",
       " 'radar_nl_202304210245.npy',\n",
       " 'radar_nl_202304210250.npy',\n",
       " 'radar_nl_202304210255.npy',\n",
       " 'MSG3-SEVI-MSG15-0100-NA-20230421025741.165000000Z-NA.npy',\n",
       " 'radar_nl_202304210300.npy',\n",
       " 'radar_nl_202304210305.npy',\n",
       " 'radar_nl_202304210310.npy',\n",
       " 'MSG3-SEVI-MSG15-0100-NA-20230421031241.146000000Z-NA.npy',\n",
       " 'radar_nl_202304210315.npy',\n",
       " 'radar_nl_202304210320.npy',\n",
       " 'radar_nl_202304210325.npy',\n",
       " 'MSG3-SEVI-MSG15-0100-NA-20230421032741.127000000Z-NA.npy',\n",
       " 'radar_nl_202304210330.npy',\n",
       " 'radar_nl_202304210335.npy',\n",
       " 'radar_nl_202304210340.npy',\n",
       " 'MSG3-SEVI-MSG15-0100-NA-20230421034241.108000000Z-NA.npy',\n",
       " 'radar_nl_202304210345.npy',\n",
       " 'radar_nl_202304210350.npy',\n",
       " 'radar_nl_202304210355.npy',\n",
       " 'MSG3-SEVI-MSG15-0100-NA-20230421035741.088000000Z-NA.npy',\n",
       " 'radar_nl_202304210400.npy',\n",
       " 'radar_nl_202304210405.npy',\n",
       " 'radar_nl_202304210410.npy',\n",
       " 'MSG3-SEVI-MSG15-0100-NA-20230421041241.069000000Z-NA.npy',\n",
       " 'radar_nl_202304210415.npy',\n",
       " 'radar_nl_202304210420.npy',\n",
       " 'radar_nl_202304210425.npy',\n",
       " 'MSG3-SEVI-MSG15-0100-NA-20230421042741.049000000Z-NA.npy',\n",
       " 'radar_nl_202304210430.npy',\n",
       " 'radar_nl_202304210435.npy',\n",
       " 'radar_nl_202304210440.npy',\n",
       " 'MSG3-SEVI-MSG15-0100-NA-20230421044241.029000000Z-NA.npy',\n",
       " 'radar_nl_202304210445.npy',\n",
       " 'radar_nl_202304210450.npy',\n",
       " 'radar_nl_202304210455.npy',\n",
       " 'MSG3-SEVI-MSG15-0100-NA-20230421045741.009000000Z-NA.npy',\n",
       " 'radar_nl_202304210500.npy',\n",
       " 'radar_nl_202304210505.npy',\n",
       " 'radar_nl_202304210510.npy',\n",
       " 'MSG3-SEVI-MSG15-0100-NA-20230421051240.989000000Z-NA.npy',\n",
       " 'radar_nl_202304210515.npy',\n",
       " 'radar_nl_202304210520.npy',\n",
       " 'radar_nl_202304210525.npy',\n",
       " 'MSG3-SEVI-MSG15-0100-NA-20230421052740.968000000Z-NA.npy',\n",
       " 'radar_nl_202304210530.npy',\n",
       " 'radar_nl_202304210535.npy',\n",
       " 'radar_nl_202304210540.npy',\n",
       " 'MSG3-SEVI-MSG15-0100-NA-20230421054240.947000000Z-NA.npy',\n",
       " 'radar_nl_202304210545.npy',\n",
       " 'radar_nl_202304210550.npy',\n",
       " 'radar_nl_202304210555.npy',\n",
       " 'MSG3-SEVI-MSG15-0100-NA-20230421055740.927000000Z-NA.npy',\n",
       " 'radar_nl_202304210600.npy',\n",
       " 'radar_nl_202304210605.npy',\n",
       " 'radar_nl_202304210610.npy',\n",
       " 'MSG3-SEVI-MSG15-0100-NA-20230421061240.906000000Z-NA.npy',\n",
       " 'radar_nl_202304210615.npy',\n",
       " 'radar_nl_202304210620.npy',\n",
       " 'radar_nl_202304210625.npy',\n",
       " 'MSG3-SEVI-MSG15-0100-NA-20230421062740.885000000Z-NA.npy',\n",
       " 'radar_nl_202304210630.npy',\n",
       " 'radar_nl_202304210635.npy',\n",
       " 'radar_nl_202304210640.npy',\n",
       " 'MSG3-SEVI-MSG15-0100-NA-20230421064240.866000000Z-NA.npy',\n",
       " 'radar_nl_202304210645.npy',\n",
       " 'radar_nl_202304210650.npy',\n",
       " 'radar_nl_202304210655.npy',\n",
       " 'MSG3-SEVI-MSG15-0100-NA-20230421065740.844000000Z-NA.npy',\n",
       " 'radar_nl_202304210700.npy',\n",
       " 'radar_nl_202304210705.npy',\n",
       " 'radar_nl_202304210710.npy',\n",
       " 'MSG3-SEVI-MSG15-0100-NA-20230421071240.823000000Z-NA.npy',\n",
       " 'radar_nl_202304210715.npy',\n",
       " 'radar_nl_202304210720.npy',\n",
       " 'radar_nl_202304210725.npy',\n",
       " 'MSG3-SEVI-MSG15-0100-NA-20230421072740.802000000Z-NA.npy',\n",
       " 'radar_nl_202304210730.npy',\n",
       " 'radar_nl_202304210735.npy',\n",
       " 'radar_nl_202304210740.npy',\n",
       " 'MSG3-SEVI-MSG15-0100-NA-20230421074240.780000000Z-NA.npy',\n",
       " 'radar_nl_202304210745.npy',\n",
       " 'radar_nl_202304210750.npy',\n",
       " 'radar_nl_202304210755.npy',\n",
       " 'MSG3-SEVI-MSG15-0100-NA-20230421075740.758000000Z-NA.npy',\n",
       " 'radar_nl_202304210800.npy',\n",
       " 'radar_nl_202304210805.npy',\n",
       " 'radar_nl_202304210810.npy',\n",
       " 'MSG3-SEVI-MSG15-0100-NA-20230421081240.736000000Z-NA.npy',\n",
       " 'radar_nl_202304210815.npy',\n",
       " 'radar_nl_202304210820.npy',\n",
       " 'radar_nl_202304210825.npy',\n",
       " 'MSG3-SEVI-MSG15-0100-NA-20230421082740.714000000Z-NA.npy',\n",
       " 'radar_nl_202304210830.npy',\n",
       " 'radar_nl_202304210835.npy',\n",
       " 'radar_nl_202304210840.npy',\n",
       " 'MSG3-SEVI-MSG15-0100-NA-20230421084240.692000000Z-NA.npy',\n",
       " 'radar_nl_202304210845.npy',\n",
       " 'radar_nl_202304210850.npy',\n",
       " 'radar_nl_202304210855.npy',\n",
       " 'MSG3-SEVI-MSG15-0100-NA-20230421085740.670000000Z-NA.npy',\n",
       " 'radar_nl_202304210900.npy',\n",
       " 'radar_nl_202304210905.npy',\n",
       " 'radar_nl_202304210910.npy',\n",
       " 'MSG3-SEVI-MSG15-0100-NA-20230421091240.648000000Z-NA.npy',\n",
       " 'radar_nl_202304210915.npy',\n",
       " 'radar_nl_202304210920.npy',\n",
       " 'radar_nl_202304210925.npy',\n",
       " 'MSG3-SEVI-MSG15-0100-NA-20230421092740.626000000Z-NA.npy',\n",
       " 'radar_nl_202304210930.npy',\n",
       " 'radar_nl_202304210935.npy',\n",
       " 'radar_nl_202304210940.npy',\n",
       " 'MSG3-SEVI-MSG15-0100-NA-20230421094240.604000000Z-NA.npy',\n",
       " 'radar_nl_202304210945.npy',\n",
       " 'radar_nl_202304210950.npy',\n",
       " 'radar_nl_202304210955.npy',\n",
       " 'MSG3-SEVI-MSG15-0100-NA-20230421095740.582000000Z-NA.npy',\n",
       " 'radar_nl_202304211000.npy',\n",
       " 'radar_nl_202304211005.npy',\n",
       " 'radar_nl_202304211010.npy',\n",
       " 'MSG3-SEVI-MSG15-0100-NA-20230421101240.561000000Z-NA.npy',\n",
       " 'radar_nl_202304211015.npy',\n",
       " 'radar_nl_202304211020.npy',\n",
       " 'radar_nl_202304211025.npy',\n",
       " 'MSG3-SEVI-MSG15-0100-NA-20230421102740.540000000Z-NA.npy',\n",
       " 'radar_nl_202304211030.npy',\n",
       " 'radar_nl_202304211035.npy',\n",
       " 'radar_nl_202304211040.npy',\n",
       " 'MSG3-SEVI-MSG15-0100-NA-20230421104240.519000000Z-NA.npy',\n",
       " 'radar_nl_202304211045.npy',\n",
       " 'radar_nl_202304211050.npy',\n",
       " 'radar_nl_202304211055.npy',\n",
       " 'MSG3-SEVI-MSG15-0100-NA-20230421105740.498000000Z-NA.npy',\n",
       " 'radar_nl_202304211100.npy',\n",
       " 'radar_nl_202304211105.npy',\n",
       " 'radar_nl_202304211110.npy',\n",
       " 'MSG3-SEVI-MSG15-0100-NA-20230421111240.477000000Z-NA.npy',\n",
       " 'radar_nl_202304211115.npy',\n",
       " 'radar_nl_202304211120.npy',\n",
       " 'radar_nl_202304211125.npy',\n",
       " 'MSG3-SEVI-MSG15-0100-NA-20230421112740.457000000Z-NA.npy',\n",
       " 'radar_nl_202304211130.npy',\n",
       " 'radar_nl_202304211135.npy',\n",
       " 'radar_nl_202304211140.npy',\n",
       " 'MSG3-SEVI-MSG15-0100-NA-20230421114240.436000000Z-NA.npy',\n",
       " 'radar_nl_202304211145.npy',\n",
       " 'radar_nl_202304211150.npy',\n",
       " 'radar_nl_202304211155.npy',\n",
       " 'MSG3-SEVI-MSG15-0100-NA-20230421115740.416000000Z-NA.npy']"
      ]
     },
     "execution_count": 20,
     "metadata": {},
     "output_type": "execute_result"
    }
   ],
   "source": [
    "order_based_on_file_timestamp(combined)"
   ]
  },
  {
   "cell_type": "code",
   "execution_count": null,
   "metadata": {},
   "outputs": [],
   "source": []
  },
  {
   "attachments": {},
   "cell_type": "markdown",
   "metadata": {},
   "source": [
    "## Experiments\n",
    "\n",
    "#### Experiment 1\n",
    "\n",
    "+ **range**: 1 hour ahead\n",
    "+ 5 minute interval\n",
    "+ 12 images\n",
    "\n",
    "#### Experiment 2\n",
    "+ **range**: 2 hours ahead\n",
    "+ 24 images\n",
    "---\n",
    "\n",
    "+ 3 next ones\n",
    "\n",
    "+ 1 hour 12\n",
    "\n",
    "+ 1 hour 15 minute intervals 4 images\n",
    "\n",
    "2 hours 24 images.\n"
   ]
  },
  {
   "attachments": {},
   "cell_type": "markdown",
   "metadata": {},
   "source": []
  },
  {
   "cell_type": "code",
   "execution_count": 1,
   "metadata": {},
   "outputs": [],
   "source": [
    "dataset = [x for x in range(10)]"
   ]
  },
  {
   "cell_type": "code",
   "execution_count": 4,
   "metadata": {},
   "outputs": [
    {
     "data": {
      "text/plain": [
       "[5, 6, 7, 8, 9]"
      ]
     },
     "execution_count": 4,
     "metadata": {},
     "output_type": "execute_result"
    }
   ],
   "source": [
    "dataset[5:10]"
   ]
  },
  {
   "cell_type": "code",
   "execution_count": null,
   "metadata": {},
   "outputs": [],
   "source": []
  }
 ],
 "metadata": {
  "kernelspec": {
   "display_name": "bsc",
   "language": "python",
   "name": "python3"
  },
  "language_info": {
   "codemirror_mode": {
    "name": "ipython",
    "version": 3
   },
   "file_extension": ".py",
   "mimetype": "text/x-python",
   "name": "python",
   "nbconvert_exporter": "python",
   "pygments_lexer": "ipython3",
   "version": "3.10.11"
  },
  "orig_nbformat": 4
 },
 "nbformat": 4,
 "nbformat_minor": 2
}
