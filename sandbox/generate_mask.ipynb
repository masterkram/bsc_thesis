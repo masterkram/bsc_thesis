{
 "cells": [
  {
   "cell_type": "code",
   "execution_count": 8,
   "metadata": {},
   "outputs": [
    {
     "name": "stdout",
     "output_type": "stream",
     "text": [
      "Requirement already satisfied: scipy in /Users/mark/miniforge3/envs/thesis/lib/python3.11/site-packages (1.10.1)\n",
      "Requirement already satisfied: numpy<1.27.0,>=1.19.5 in /Users/mark/miniforge3/envs/thesis/lib/python3.11/site-packages (from scipy) (1.24.2)\n",
      "Note: you may need to restart the kernel to use updated packages.\n"
     ]
    }
   ],
   "source": [
    "%pip install scipy"
   ]
  },
  {
   "cell_type": "code",
   "execution_count": 3,
   "metadata": {},
   "outputs": [
    {
     "ename": "ValueError",
     "evalue": "did not find a match in any of xarray's currently installed IO backends ['netcdf4', 'scipy']. Consider explicitly selecting one of the installed engines via the ``engine`` parameter, or installing additional IO dependencies, see:\nhttps://docs.xarray.dev/en/stable/getting-started-guide/installing.html\nhttps://docs.xarray.dev/en/stable/user-guide/io.html",
     "output_type": "error",
     "traceback": [
      "\u001b[0;31m---------------------------------------------------------------------------\u001b[0m",
      "\u001b[0;31mValueError\u001b[0m                                Traceback (most recent call last)",
      "Cell \u001b[0;32mIn[3], line 4\u001b[0m\n\u001b[1;32m      2\u001b[0m \u001b[39mimport\u001b[39;00m \u001b[39mscipy\u001b[39;00m\n\u001b[1;32m      3\u001b[0m \u001b[39m# Load the Natural Earth land and ocean mask datasets\u001b[39;00m\n\u001b[0;32m----> 4\u001b[0m land_mask \u001b[39m=\u001b[39m xr\u001b[39m.\u001b[39;49mopen_dataset(\u001b[39m\"\u001b[39;49m\u001b[39m../data/ne_50m_land.zip\u001b[39;49m\u001b[39m\"\u001b[39;49m)\u001b[39m.\u001b[39mrename({\u001b[39m\"\u001b[39m\u001b[39mmask\u001b[39m\u001b[39m\"\u001b[39m: \u001b[39m\"\u001b[39m\u001b[39mland_mask\u001b[39m\u001b[39m\"\u001b[39m})\n\u001b[1;32m      5\u001b[0m ocean_mask \u001b[39m=\u001b[39m xr\u001b[39m.\u001b[39mopen_dataset(\u001b[39m\"\u001b[39m\u001b[39m../data/ne_50m_ocean.zip\u001b[39m\u001b[39m\"\u001b[39m)\u001b[39m.\u001b[39mrename({\u001b[39m\"\u001b[39m\u001b[39mmask\u001b[39m\u001b[39m\"\u001b[39m: \u001b[39m\"\u001b[39m\u001b[39mocean_mask\u001b[39m\u001b[39m\"\u001b[39m})\n\u001b[1;32m      7\u001b[0m \u001b[39m# Combine the land and ocean masks into a single dataset\u001b[39;00m\n",
      "File \u001b[0;32m~/miniforge3/envs/thesis/lib/python3.11/site-packages/xarray/backends/api.py:509\u001b[0m, in \u001b[0;36mopen_dataset\u001b[0;34m(filename_or_obj, engine, chunks, cache, decode_cf, mask_and_scale, decode_times, decode_timedelta, use_cftime, concat_characters, decode_coords, drop_variables, inline_array, backend_kwargs, **kwargs)\u001b[0m\n\u001b[1;32m    506\u001b[0m     kwargs\u001b[39m.\u001b[39mupdate(backend_kwargs)\n\u001b[1;32m    508\u001b[0m \u001b[39mif\u001b[39;00m engine \u001b[39mis\u001b[39;00m \u001b[39mNone\u001b[39;00m:\n\u001b[0;32m--> 509\u001b[0m     engine \u001b[39m=\u001b[39m plugins\u001b[39m.\u001b[39;49mguess_engine(filename_or_obj)\n\u001b[1;32m    511\u001b[0m backend \u001b[39m=\u001b[39m plugins\u001b[39m.\u001b[39mget_backend(engine)\n\u001b[1;32m    513\u001b[0m decoders \u001b[39m=\u001b[39m _resolve_decoders_kwargs(\n\u001b[1;32m    514\u001b[0m     decode_cf,\n\u001b[1;32m    515\u001b[0m     open_backend_dataset_parameters\u001b[39m=\u001b[39mbackend\u001b[39m.\u001b[39mopen_dataset_parameters,\n\u001b[0;32m   (...)\u001b[0m\n\u001b[1;32m    521\u001b[0m     decode_coords\u001b[39m=\u001b[39mdecode_coords,\n\u001b[1;32m    522\u001b[0m )\n",
      "File \u001b[0;32m~/miniforge3/envs/thesis/lib/python3.11/site-packages/xarray/backends/plugins.py:197\u001b[0m, in \u001b[0;36mguess_engine\u001b[0;34m(store_spec)\u001b[0m\n\u001b[1;32m    189\u001b[0m \u001b[39melse\u001b[39;00m:\n\u001b[1;32m    190\u001b[0m     error_msg \u001b[39m=\u001b[39m (\n\u001b[1;32m    191\u001b[0m         \u001b[39m\"\u001b[39m\u001b[39mfound the following matches with the input file in xarray\u001b[39m\u001b[39m'\u001b[39m\u001b[39ms IO \u001b[39m\u001b[39m\"\u001b[39m\n\u001b[1;32m    192\u001b[0m         \u001b[39mf\u001b[39m\u001b[39m\"\u001b[39m\u001b[39mbackends: \u001b[39m\u001b[39m{\u001b[39;00mcompatible_engines\u001b[39m}\u001b[39;00m\u001b[39m. But their dependencies may not be installed, see:\u001b[39m\u001b[39m\\n\u001b[39;00m\u001b[39m\"\u001b[39m\n\u001b[1;32m    193\u001b[0m         \u001b[39m\"\u001b[39m\u001b[39mhttps://docs.xarray.dev/en/stable/user-guide/io.html \u001b[39m\u001b[39m\\n\u001b[39;00m\u001b[39m\"\u001b[39m\n\u001b[1;32m    194\u001b[0m         \u001b[39m\"\u001b[39m\u001b[39mhttps://docs.xarray.dev/en/stable/getting-started-guide/installing.html\u001b[39m\u001b[39m\"\u001b[39m\n\u001b[1;32m    195\u001b[0m     )\n\u001b[0;32m--> 197\u001b[0m \u001b[39mraise\u001b[39;00m \u001b[39mValueError\u001b[39;00m(error_msg)\n",
      "\u001b[0;31mValueError\u001b[0m: did not find a match in any of xarray's currently installed IO backends ['netcdf4', 'scipy']. Consider explicitly selecting one of the installed engines via the ``engine`` parameter, or installing additional IO dependencies, see:\nhttps://docs.xarray.dev/en/stable/getting-started-guide/installing.html\nhttps://docs.xarray.dev/en/stable/user-guide/io.html"
     ]
    }
   ],
   "source": [
    "import xarray as xr\n",
    "# Load the Natural Earth land and ocean mask datasets\n",
    "land_mask = xr.open_dataset(\"../data/ne_50m_land.zip\").rename({\"mask\": \"land_mask\"})\n",
    "ocean_mask = xr.open_dataset(\"../data/ne_50m_ocean.zip\").rename({\"mask\": \"ocean_mask\"})\n",
    "\n",
    "# Combine the land and ocean masks into a single dataset\n",
    "mask = xr.merge([land_mask, ocean_mask])\n",
    "\n",
    "# Select the sub-region corresponding to the Netherlands\n",
    "netherlands_mask = mask.sel(lat=slice(53.5, 50.5), lon=slice(3.5, 7.5))\n",
    "\n",
    "# Print the resulting mask data\n",
    "print(netherlands_mask)"
   ]
  },
  {
   "cell_type": "code",
   "execution_count": null,
   "metadata": {},
   "outputs": [],
   "source": []
  }
 ],
 "metadata": {
  "kernelspec": {
   "display_name": "thesis",
   "language": "python",
   "name": "python3"
  },
  "language_info": {
   "codemirror_mode": {
    "name": "ipython",
    "version": 3
   },
   "file_extension": ".py",
   "mimetype": "text/x-python",
   "name": "python",
   "nbconvert_exporter": "python",
   "pygments_lexer": "ipython3",
   "version": "3.11.1"
  },
  "orig_nbformat": 4
 },
 "nbformat": 4,
 "nbformat_minor": 2
}
